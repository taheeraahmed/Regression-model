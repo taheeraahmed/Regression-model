{
 "metadata": {
  "language_info": {
   "codemirror_mode": {
    "name": "ipython",
    "version": 3
   },
   "file_extension": ".py",
   "mimetype": "text/x-python",
   "name": "python",
   "nbconvert_exporter": "python",
   "pygments_lexer": "ipython3",
   "version": "3.9.5"
  },
  "orig_nbformat": 4,
  "kernelspec": {
   "name": "python3",
   "display_name": "Python 3.9.5 64-bit"
  },
  "interpreter": {
   "hash": "aee8b7b246df8f9039afb4144a1f6fd8d2ca17a180786b69acc140d282b71a49"
  }
 },
 "nbformat": 4,
 "nbformat_minor": 2,
 "cells": [
  {
   "source": [
    "# Deep learning regression model\n",
    "\n",
    "## Project goal\n",
    "The goal of this project is to develop a deep learning regression model which is to predict the probability that a student will be accepted to graduate schools. This willl be based on different application factors from a dataset from kaggle. \n"
   ],
   "cell_type": "markdown",
   "metadata": {}
  },
  {
   "cell_type": "code",
   "execution_count": 26,
   "metadata": {},
   "outputs": [],
   "source": [
    "import pandas as pd\n",
    "import numpy as np\n",
    "import matplotlib.pyplot as plt\n",
    "\n",
    "import tensorflow as tf\n",
    "from tensorflow\timport keras\n",
    "from tensorflow.keras.models import Sequential\n",
    "from tensorflow.keras.callbacks import EarlyStopping\n",
    "from tensorflow.keras import layers\n",
    "from tensorflow.keras.layers import InputLayer, Dense\n",
    "from tensorflow.keras.optimizers import Adam\n",
    "\n",
    "from sklearn.model_selection import train_test_split\n",
    "from sklearn.preprocessing import StandardScaler\n",
    "from sklearn.preprocessing import Normalizer\n",
    "from sklearn.metrics import r2_score\n",
    "from sklearn.compose import ColumnTransformer\n"
   ]
  },
  {
   "source": [
    "## The dataset\n",
    "The dataset being used is from Kaggle. It contains information about 500 students from different universities. The dataset consists of different types of attributes like their GRE Score,TOEFL Score,University Rating and so on.\n"
   ],
   "cell_type": "markdown",
   "metadata": {}
  },
  {
   "cell_type": "code",
   "execution_count": 27,
   "metadata": {},
   "outputs": [
    {
     "output_type": "execute_result",
     "data": {
      "text/plain": [
       "       Serial No.   GRE Score  TOEFL Score  University Rating         SOP  \\\n",
       "count  500.000000  500.000000   500.000000         500.000000  500.000000   \n",
       "mean   250.500000  316.472000   107.192000           3.114000    3.374000   \n",
       "std    144.481833   11.295148     6.081868           1.143512    0.991004   \n",
       "min      1.000000  290.000000    92.000000           1.000000    1.000000   \n",
       "25%    125.750000  308.000000   103.000000           2.000000    2.500000   \n",
       "50%    250.500000  317.000000   107.000000           3.000000    3.500000   \n",
       "75%    375.250000  325.000000   112.000000           4.000000    4.000000   \n",
       "max    500.000000  340.000000   120.000000           5.000000    5.000000   \n",
       "\n",
       "            LOR         CGPA    Research  Chance of Admit   \n",
       "count  500.00000  500.000000  500.000000         500.00000  \n",
       "mean     3.48400    8.576440    0.560000           0.72174  \n",
       "std      0.92545    0.604813    0.496884           0.14114  \n",
       "min      1.00000    6.800000    0.000000           0.34000  \n",
       "25%      3.00000    8.127500    0.000000           0.63000  \n",
       "50%      3.50000    8.560000    1.000000           0.72000  \n",
       "75%      4.00000    9.040000    1.000000           0.82000  \n",
       "max      5.00000    9.920000    1.000000           0.97000  "
      ],
      "text/html": "<div>\n<style scoped>\n    .dataframe tbody tr th:only-of-type {\n        vertical-align: middle;\n    }\n\n    .dataframe tbody tr th {\n        vertical-align: top;\n    }\n\n    .dataframe thead th {\n        text-align: right;\n    }\n</style>\n<table border=\"1\" class=\"dataframe\">\n  <thead>\n    <tr style=\"text-align: right;\">\n      <th></th>\n      <th>Serial No.</th>\n      <th>GRE Score</th>\n      <th>TOEFL Score</th>\n      <th>University Rating</th>\n      <th>SOP</th>\n      <th>LOR</th>\n      <th>CGPA</th>\n      <th>Research</th>\n      <th>Chance of Admit</th>\n    </tr>\n  </thead>\n  <tbody>\n    <tr>\n      <th>count</th>\n      <td>500.000000</td>\n      <td>500.000000</td>\n      <td>500.000000</td>\n      <td>500.000000</td>\n      <td>500.000000</td>\n      <td>500.00000</td>\n      <td>500.000000</td>\n      <td>500.000000</td>\n      <td>500.00000</td>\n    </tr>\n    <tr>\n      <th>mean</th>\n      <td>250.500000</td>\n      <td>316.472000</td>\n      <td>107.192000</td>\n      <td>3.114000</td>\n      <td>3.374000</td>\n      <td>3.48400</td>\n      <td>8.576440</td>\n      <td>0.560000</td>\n      <td>0.72174</td>\n    </tr>\n    <tr>\n      <th>std</th>\n      <td>144.481833</td>\n      <td>11.295148</td>\n      <td>6.081868</td>\n      <td>1.143512</td>\n      <td>0.991004</td>\n      <td>0.92545</td>\n      <td>0.604813</td>\n      <td>0.496884</td>\n      <td>0.14114</td>\n    </tr>\n    <tr>\n      <th>min</th>\n      <td>1.000000</td>\n      <td>290.000000</td>\n      <td>92.000000</td>\n      <td>1.000000</td>\n      <td>1.000000</td>\n      <td>1.00000</td>\n      <td>6.800000</td>\n      <td>0.000000</td>\n      <td>0.34000</td>\n    </tr>\n    <tr>\n      <th>25%</th>\n      <td>125.750000</td>\n      <td>308.000000</td>\n      <td>103.000000</td>\n      <td>2.000000</td>\n      <td>2.500000</td>\n      <td>3.00000</td>\n      <td>8.127500</td>\n      <td>0.000000</td>\n      <td>0.63000</td>\n    </tr>\n    <tr>\n      <th>50%</th>\n      <td>250.500000</td>\n      <td>317.000000</td>\n      <td>107.000000</td>\n      <td>3.000000</td>\n      <td>3.500000</td>\n      <td>3.50000</td>\n      <td>8.560000</td>\n      <td>1.000000</td>\n      <td>0.72000</td>\n    </tr>\n    <tr>\n      <th>75%</th>\n      <td>375.250000</td>\n      <td>325.000000</td>\n      <td>112.000000</td>\n      <td>4.000000</td>\n      <td>4.000000</td>\n      <td>4.00000</td>\n      <td>9.040000</td>\n      <td>1.000000</td>\n      <td>0.82000</td>\n    </tr>\n    <tr>\n      <th>max</th>\n      <td>500.000000</td>\n      <td>340.000000</td>\n      <td>120.000000</td>\n      <td>5.000000</td>\n      <td>5.000000</td>\n      <td>5.00000</td>\n      <td>9.920000</td>\n      <td>1.000000</td>\n      <td>0.97000</td>\n    </tr>\n  </tbody>\n</table>\n</div>"
     },
     "metadata": {},
     "execution_count": 27
    }
   ],
   "source": [
    "df = pd.read_csv('admissions_data.csv')\n",
    "df.describe()"
   ]
  },
  {
   "cell_type": "code",
   "execution_count": 28,
   "metadata": {},
   "outputs": [
    {
     "output_type": "execute_result",
     "data": {
      "text/plain": [
       "   Serial No.  GRE Score  TOEFL Score  University Rating  SOP  LOR   CGPA  \\\n",
       "0           1        337          118                  4  4.5   4.5  9.65   \n",
       "1           2        324          107                  4  4.0   4.5  8.87   \n",
       "2           3        316          104                  3  3.0   3.5  8.00   \n",
       "3           4        322          110                  3  3.5   2.5  8.67   \n",
       "4           5        314          103                  2  2.0   3.0  8.21   \n",
       "\n",
       "   Research  Chance of Admit   \n",
       "0         1              0.92  \n",
       "1         1              0.76  \n",
       "2         1              0.72  \n",
       "3         1              0.80  \n",
       "4         0              0.65  "
      ],
      "text/html": "<div>\n<style scoped>\n    .dataframe tbody tr th:only-of-type {\n        vertical-align: middle;\n    }\n\n    .dataframe tbody tr th {\n        vertical-align: top;\n    }\n\n    .dataframe thead th {\n        text-align: right;\n    }\n</style>\n<table border=\"1\" class=\"dataframe\">\n  <thead>\n    <tr style=\"text-align: right;\">\n      <th></th>\n      <th>Serial No.</th>\n      <th>GRE Score</th>\n      <th>TOEFL Score</th>\n      <th>University Rating</th>\n      <th>SOP</th>\n      <th>LOR</th>\n      <th>CGPA</th>\n      <th>Research</th>\n      <th>Chance of Admit</th>\n    </tr>\n  </thead>\n  <tbody>\n    <tr>\n      <th>0</th>\n      <td>1</td>\n      <td>337</td>\n      <td>118</td>\n      <td>4</td>\n      <td>4.5</td>\n      <td>4.5</td>\n      <td>9.65</td>\n      <td>1</td>\n      <td>0.92</td>\n    </tr>\n    <tr>\n      <th>1</th>\n      <td>2</td>\n      <td>324</td>\n      <td>107</td>\n      <td>4</td>\n      <td>4.0</td>\n      <td>4.5</td>\n      <td>8.87</td>\n      <td>1</td>\n      <td>0.76</td>\n    </tr>\n    <tr>\n      <th>2</th>\n      <td>3</td>\n      <td>316</td>\n      <td>104</td>\n      <td>3</td>\n      <td>3.0</td>\n      <td>3.5</td>\n      <td>8.00</td>\n      <td>1</td>\n      <td>0.72</td>\n    </tr>\n    <tr>\n      <th>3</th>\n      <td>4</td>\n      <td>322</td>\n      <td>110</td>\n      <td>3</td>\n      <td>3.5</td>\n      <td>2.5</td>\n      <td>8.67</td>\n      <td>1</td>\n      <td>0.80</td>\n    </tr>\n    <tr>\n      <th>4</th>\n      <td>5</td>\n      <td>314</td>\n      <td>103</td>\n      <td>2</td>\n      <td>2.0</td>\n      <td>3.0</td>\n      <td>8.21</td>\n      <td>0</td>\n      <td>0.65</td>\n    </tr>\n  </tbody>\n</table>\n</div>"
     },
     "metadata": {},
     "execution_count": 28
    }
   ],
   "source": [
    "df.head()"
   ]
  },
  {
   "source": [
    "From looking at these we can drop the \"Serial No.\" column, since this isn't a very descriptive column :) "
   ],
   "cell_type": "markdown",
   "metadata": {}
  },
  {
   "cell_type": "code",
   "execution_count": 29,
   "metadata": {},
   "outputs": [],
   "source": [
    "df = df.drop(['Serial No.'], axis=1)"
   ]
  },
  {
   "source": [
    "Now we need to split the data into two parts, namely into features and labels. The features are all the attributes which describes the student and are attributes which affects their chance of admittance. The label is the last column, namely \"Chance of admittance\""
   ],
   "cell_type": "markdown",
   "metadata": {}
  },
  {
   "cell_type": "code",
   "execution_count": 30,
   "metadata": {},
   "outputs": [],
   "source": [
    "features = df.iloc[:,0:-1]\n",
    "labels = df.iloc[:,-1]"
   ]
  },
  {
   "source": [
    "## Splitting and standardizing the data\n",
    "\n",
    "We need to split the data into both training and test set and also there is a need to standardize some of the columns"
   ],
   "cell_type": "markdown",
   "metadata": {}
  },
  {
   "source": [
    "a) Splitting the data\n",
    "\n",
    "We will be using a test size of 33% and a random state of 42."
   ],
   "cell_type": "markdown",
   "metadata": {}
  },
  {
   "cell_type": "code",
   "execution_count": 31,
   "metadata": {},
   "outputs": [],
   "source": [
    "features_training_set, features_test_set, labels_training_set, labels_test_set = train_test_split(features,labels, test_size=0.33, random_state=42)"
   ]
  },
  {
   "source": [
    "b) Standardizing the data\n",
    "\n"
   ],
   "cell_type": "markdown",
   "metadata": {}
  },
  {
   "cell_type": "code",
   "execution_count": 32,
   "metadata": {},
   "outputs": [],
   "source": [
    "ct = ColumnTransformer([('normalize', Normalizer(), ['GRE Score', 'TOEFL Score', 'CGPA'])], remainder='passthrough')\n",
    "\n",
    "features_train_norm = ct.fit_transform(features_training_set)\n",
    "features_test_norm = ct.transform(features_test_set)\n"
   ]
  },
  {
   "source": [
    "## Creating the deep learning model\n",
    "\n",
    "Here I have decided to implement a function which creates the deep learning model aka. the neural network we are going to use for this modelling task "
   ],
   "cell_type": "markdown",
   "metadata": {}
  },
  {
   "cell_type": "code",
   "execution_count": 33,
   "metadata": {},
   "outputs": [],
   "source": [
    "def create_model(features):\n",
    "    model = Sequential(name=\"NeuralNet\")\n",
    "\n",
    "    # Adding the input layer to model\n",
    "    num_features = features.shape[1] \n",
    "    input = layers.InputLayer(input_shape=num_features,)\n",
    "    model.add(input) \n",
    "\n",
    "    # Adding the hidden layer to the model \n",
    "    model.add(Dense(20, activation='relu'))\n",
    "\n",
    "    # Adding the output layer to model \n",
    "    model.add(Dense(1))\n",
    "\n",
    "    # Adding an optimizer to the model \n",
    "    opt = Adam(learning_rate=0.1)\n",
    "    model.compile(loss ='mse', metrics =['mae'], optimizer = opt)\n",
    "\n",
    "    print(model.summary())\n",
    "    return model\n"
   ]
  },
  {
   "source": [
    "The function takes in a parameter features, which is used to decied the dimension of the input layer. \n",
    "\n",
    "The hidden layer will use the ReLU for its activation of the nodes. While the output layer will consist of one node. \n",
    "\n",
    "For the optimizer we will use Adam with a learning rate of 0.01. More over the loss function we will be using is the mean-squared error (MSE), because it's a regression model, and we will use mean-average error (MAE)as the metric. \n",
    "\n",
    "\n"
   ],
   "cell_type": "markdown",
   "metadata": {}
  },
  {
   "cell_type": "code",
   "execution_count": 34,
   "metadata": {},
   "outputs": [
    {
     "output_type": "stream",
     "name": "stdout",
     "text": [
      "Model: \"NeuralNet\"\n_________________________________________________________________\nLayer (type)                 Output Shape              Param #   \n=================================================================\ndense_2 (Dense)              (None, 20)                160       \n_________________________________________________________________\ndense_3 (Dense)              (None, 1)                 21        \n=================================================================\nTotal params: 181\nTrainable params: 181\nNon-trainable params: 0\n_________________________________________________________________\nNone\n"
     ]
    }
   ],
   "source": [
    "model = create_model(features_training_set)"
   ]
  },
  {
   "source": [
    "## Training the model\n",
    "\n",
    "Now we need to train and fit the model using our features and labels. Here we must choose parametres such as epochs, batch_size and verbose. "
   ],
   "cell_type": "markdown",
   "metadata": {}
  },
  {
   "cell_type": "code",
   "execution_count": 35,
   "metadata": {},
   "outputs": [
    {
     "output_type": "stream",
     "name": "stdout",
     "text": [
      "Epoch 1/100\n",
      "56/56 [==============================] - 1s 2ms/step - loss: 747.2437 - mae: 13.4114\n",
      "Epoch 2/100\n",
      "56/56 [==============================] - 0s 1ms/step - loss: 0.3878 - mae: 0.5966\n",
      "Epoch 3/100\n",
      "56/56 [==============================] - 0s 1ms/step - loss: 0.0751 - mae: 0.2345\n",
      "Epoch 4/100\n",
      "56/56 [==============================] - 0s 910us/step - loss: 0.0203 - mae: 0.1166\n",
      "Epoch 5/100\n",
      "56/56 [==============================] - 0s 2ms/step - loss: 0.0195 - mae: 0.1130\n",
      "Epoch 6/100\n",
      "56/56 [==============================] - 0s 2ms/step - loss: 0.0195 - mae: 0.1133\n",
      "Epoch 7/100\n",
      "56/56 [==============================] - 0s 2ms/step - loss: 0.0196 - mae: 0.1137\n",
      "Epoch 8/100\n",
      "56/56 [==============================] - 0s 1ms/step - loss: 0.0193 - mae: 0.1125\n",
      "Epoch 9/100\n",
      "56/56 [==============================] - 0s 2ms/step - loss: 0.0193 - mae: 0.1129\n",
      "Epoch 10/100\n",
      "56/56 [==============================] - 0s 2ms/step - loss: 0.0194 - mae: 0.1124\n",
      "Epoch 11/100\n",
      "56/56 [==============================] - 0s 2ms/step - loss: 0.0190 - mae: 0.1120\n",
      "Epoch 12/100\n",
      "56/56 [==============================] - 0s 1ms/step - loss: 0.0193 - mae: 0.1126\n",
      "Epoch 13/100\n",
      "56/56 [==============================] - 0s 2ms/step - loss: 0.0190 - mae: 0.1119\n",
      "Epoch 14/100\n",
      "56/56 [==============================] - 0s 1ms/step - loss: 0.0190 - mae: 0.1116\n",
      "Epoch 15/100\n",
      "56/56 [==============================] - 0s 1ms/step - loss: 0.0187 - mae: 0.1101\n",
      "Epoch 16/100\n",
      "56/56 [==============================] - 0s 1ms/step - loss: 0.0186 - mae: 0.1111\n",
      "Epoch 17/100\n",
      "56/56 [==============================] - 0s 1ms/step - loss: 0.0184 - mae: 0.1096\n",
      "Epoch 18/100\n",
      "56/56 [==============================] - 0s 1ms/step - loss: 0.0183 - mae: 0.1097\n",
      "Epoch 19/100\n",
      "56/56 [==============================] - 0s 2ms/step - loss: 0.0181 - mae: 0.1088\n",
      "Epoch 20/100\n",
      "56/56 [==============================] - 0s 2ms/step - loss: 0.0181 - mae: 0.1087\n",
      "Epoch 21/100\n",
      "56/56 [==============================] - 0s 2ms/step - loss: 0.0179 - mae: 0.1083\n",
      "Epoch 22/100\n",
      "56/56 [==============================] - 0s 1ms/step - loss: 0.0178 - mae: 0.1079\n",
      "Epoch 23/100\n",
      "56/56 [==============================] - 0s 3ms/step - loss: 0.0179 - mae: 0.1085\n",
      "Epoch 24/100\n",
      "56/56 [==============================] - 0s 2ms/step - loss: 0.0177 - mae: 0.1084\n",
      "Epoch 25/100\n",
      "56/56 [==============================] - 0s 2ms/step - loss: 0.0175 - mae: 0.1072\n",
      "Epoch 26/100\n",
      "56/56 [==============================] - 0s 2ms/step - loss: 0.0173 - mae: 0.1065\n",
      "Epoch 27/100\n",
      "56/56 [==============================] - 0s 2ms/step - loss: 0.0170 - mae: 0.1056\n",
      "Epoch 28/100\n",
      "56/56 [==============================] - 0s 2ms/step - loss: 0.0173 - mae: 0.1069\n",
      "Epoch 29/100\n",
      "56/56 [==============================] - 0s 1ms/step - loss: 0.0169 - mae: 0.1049\n",
      "Epoch 30/100\n",
      "56/56 [==============================] - 0s 1ms/step - loss: 0.0167 - mae: 0.1045\n",
      "Epoch 31/100\n",
      "56/56 [==============================] - 0s 1ms/step - loss: 0.0167 - mae: 0.1046\n",
      "Epoch 32/100\n",
      "56/56 [==============================] - 0s 1ms/step - loss: 0.0164 - mae: 0.1034\n",
      "Epoch 33/100\n",
      "56/56 [==============================] - 0s 1ms/step - loss: 0.0163 - mae: 0.1032\n",
      "Epoch 34/100\n",
      "56/56 [==============================] - 0s 2ms/step - loss: 0.0161 - mae: 0.1022\n",
      "Epoch 35/100\n",
      "56/56 [==============================] - 0s 2ms/step - loss: 0.0163 - mae: 0.1033\n",
      "Epoch 36/100\n",
      "56/56 [==============================] - 0s 1ms/step - loss: 0.0162 - mae: 0.1041\n",
      "Epoch 37/100\n",
      "56/56 [==============================] - 0s 2ms/step - loss: 0.0159 - mae: 0.1013\n",
      "Epoch 38/100\n",
      "56/56 [==============================] - 0s 5ms/step - loss: 0.0156 - mae: 0.1000\n",
      "Epoch 39/100\n",
      "56/56 [==============================] - 0s 3ms/step - loss: 0.0151 - mae: 0.0994\n",
      "Epoch 40/100\n",
      "56/56 [==============================] - 0s 2ms/step - loss: 0.0153 - mae: 0.1004\n",
      "Epoch 41/100\n",
      "56/56 [==============================] - 0s 1ms/step - loss: 0.0148 - mae: 0.0968\n",
      "Epoch 42/100\n",
      "56/56 [==============================] - 0s 1ms/step - loss: 0.0148 - mae: 0.0987\n",
      "Epoch 43/100\n",
      "56/56 [==============================] - 0s 2ms/step - loss: 0.0146 - mae: 0.0974\n",
      "Epoch 44/100\n",
      "56/56 [==============================] - 0s 1ms/step - loss: 0.0140 - mae: 0.0957\n",
      "Epoch 45/100\n",
      "56/56 [==============================] - 0s 1ms/step - loss: 0.0136 - mae: 0.0946\n",
      "Epoch 46/100\n",
      "56/56 [==============================] - 0s 2ms/step - loss: 0.0135 - mae: 0.0935\n",
      "Epoch 47/100\n",
      "56/56 [==============================] - 0s 2ms/step - loss: 0.0133 - mae: 0.0923\n",
      "Epoch 48/100\n",
      "56/56 [==============================] - 0s 2ms/step - loss: 0.0131 - mae: 0.0925\n",
      "Epoch 49/100\n",
      "56/56 [==============================] - 0s 2ms/step - loss: 0.0131 - mae: 0.0916\n",
      "Epoch 50/100\n",
      "56/56 [==============================] - 0s 1ms/step - loss: 0.0126 - mae: 0.0906\n",
      "Epoch 51/100\n",
      "56/56 [==============================] - 0s 2ms/step - loss: 0.0123 - mae: 0.0888\n",
      "Epoch 52/100\n",
      "56/56 [==============================] - 0s 1ms/step - loss: 0.0126 - mae: 0.0896\n",
      "Epoch 53/100\n",
      "56/56 [==============================] - 0s 3ms/step - loss: 0.0122 - mae: 0.0888\n",
      "Epoch 54/100\n",
      "56/56 [==============================] - 0s 2ms/step - loss: 0.0117 - mae: 0.0857\n",
      "Epoch 55/100\n",
      "56/56 [==============================] - 0s 1ms/step - loss: 0.0109 - mae: 0.0845\n",
      "Epoch 56/100\n",
      "56/56 [==============================] - 0s 2ms/step - loss: 0.0111 - mae: 0.0842\n",
      "Epoch 57/100\n",
      "56/56 [==============================] - 0s 2ms/step - loss: 0.0110 - mae: 0.0842\n",
      "Epoch 58/100\n",
      "56/56 [==============================] - 0s 2ms/step - loss: 0.0103 - mae: 0.0806\n",
      "Epoch 59/100\n",
      "56/56 [==============================] - 0s 2ms/step - loss: 0.0101 - mae: 0.0797\n",
      "Epoch 60/100\n",
      "56/56 [==============================] - 0s 4ms/step - loss: 0.0102 - mae: 0.0796\n",
      "Epoch 61/100\n",
      "56/56 [==============================] - 0s 2ms/step - loss: 0.0095 - mae: 0.0768\n",
      "Epoch 62/100\n",
      "56/56 [==============================] - 0s 1ms/step - loss: 0.0090 - mae: 0.0743\n",
      "Epoch 63/100\n",
      "56/56 [==============================] - 0s 1ms/step - loss: 0.0086 - mae: 0.0729\n",
      "Epoch 64/100\n",
      "56/56 [==============================] - 0s 1ms/step - loss: 0.0084 - mae: 0.0723\n",
      "Epoch 65/100\n",
      "56/56 [==============================] - 0s 1ms/step - loss: 0.0084 - mae: 0.0707\n",
      "Epoch 66/100\n",
      "56/56 [==============================] - 0s 1ms/step - loss: 0.0093 - mae: 0.0747\n",
      "Epoch 67/100\n",
      "56/56 [==============================] - 0s 1ms/step - loss: 0.0083 - mae: 0.0712\n",
      "Epoch 68/100\n",
      "56/56 [==============================] - 0s 1ms/step - loss: 0.0079 - mae: 0.0691\n",
      "Epoch 69/100\n",
      "56/56 [==============================] - 0s 1ms/step - loss: 0.0076 - mae: 0.0667\n",
      "Epoch 70/100\n",
      "56/56 [==============================] - 0s 1ms/step - loss: 0.0075 - mae: 0.0663\n",
      "Epoch 71/100\n",
      "56/56 [==============================] - 0s 1ms/step - loss: 0.0076 - mae: 0.0667\n",
      "Epoch 72/100\n",
      "56/56 [==============================] - 0s 1ms/step - loss: 0.0077 - mae: 0.0663\n",
      "Epoch 73/100\n",
      "56/56 [==============================] - 0s 2ms/step - loss: 0.0069 - mae: 0.0638\n",
      "Epoch 74/100\n",
      "56/56 [==============================] - 0s 1ms/step - loss: 0.0071 - mae: 0.0645\n",
      "Epoch 75/100\n",
      "56/56 [==============================] - 0s 1ms/step - loss: 0.0082 - mae: 0.0679\n",
      "Epoch 76/100\n",
      "56/56 [==============================] - 0s 2ms/step - loss: 0.0082 - mae: 0.0698\n",
      "Epoch 77/100\n",
      "56/56 [==============================] - 0s 1ms/step - loss: 0.0071 - mae: 0.0636\n",
      "Epoch 78/100\n",
      "56/56 [==============================] - 0s 2ms/step - loss: 0.0074 - mae: 0.0649\n",
      "Epoch 79/100\n",
      "56/56 [==============================] - 0s 2ms/step - loss: 0.0070 - mae: 0.0632\n",
      "Epoch 80/100\n",
      "56/56 [==============================] - 0s 1ms/step - loss: 0.0065 - mae: 0.0610\n",
      "Epoch 81/100\n",
      "56/56 [==============================] - 0s 1ms/step - loss: 0.0075 - mae: 0.0675\n",
      "Epoch 82/100\n",
      "56/56 [==============================] - 0s 1ms/step - loss: 0.0070 - mae: 0.0618\n",
      "Epoch 83/100\n",
      "56/56 [==============================] - 0s 2ms/step - loss: 0.0068 - mae: 0.0618\n",
      "Epoch 84/100\n",
      "56/56 [==============================] - 0s 1ms/step - loss: 0.0070 - mae: 0.0623\n",
      "Epoch 85/100\n",
      "56/56 [==============================] - 0s 1ms/step - loss: 0.0062 - mae: 0.0595\n",
      "Epoch 86/100\n",
      "56/56 [==============================] - 0s 1ms/step - loss: 0.0065 - mae: 0.0607\n",
      "Epoch 87/100\n",
      "56/56 [==============================] - 0s 2ms/step - loss: 0.0071 - mae: 0.0626\n",
      "Epoch 88/100\n",
      "56/56 [==============================] - 0s 1ms/step - loss: 0.0077 - mae: 0.0674\n",
      "Epoch 89/100\n",
      "56/56 [==============================] - 0s 2ms/step - loss: 0.0065 - mae: 0.0611\n",
      "Epoch 90/100\n",
      "56/56 [==============================] - 0s 1ms/step - loss: 0.0070 - mae: 0.0627\n",
      "Epoch 91/100\n",
      "56/56 [==============================] - 0s 1ms/step - loss: 0.0069 - mae: 0.0618\n",
      "Epoch 92/100\n",
      "56/56 [==============================] - 0s 1ms/step - loss: 0.0066 - mae: 0.0600\n",
      "Epoch 93/100\n",
      "56/56 [==============================] - 0s 1ms/step - loss: 0.0082 - mae: 0.0691\n",
      "Epoch 94/100\n",
      "56/56 [==============================] - 0s 1ms/step - loss: 0.0077 - mae: 0.0681\n",
      "Epoch 95/100\n",
      "56/56 [==============================] - 0s 1ms/step - loss: 0.0077 - mae: 0.0690\n",
      "Epoch 96/100\n",
      "56/56 [==============================] - 0s 2ms/step - loss: 0.0065 - mae: 0.0611\n",
      "Epoch 97/100\n",
      "56/56 [==============================] - 0s 3ms/step - loss: 0.0061 - mae: 0.0581\n",
      "Epoch 98/100\n",
      "56/56 [==============================] - 0s 1ms/step - loss: 0.0071 - mae: 0.0651\n",
      "Epoch 99/100\n",
      "56/56 [==============================] - 0s 1ms/step - loss: 0.0068 - mae: 0.0623\n",
      "Epoch 100/100\n",
      "56/56 [==============================] - 0s 2ms/step - loss: 0.0064 - mae: 0.0592\n"
     ]
    }
   ],
   "source": [
    "history = model.fit(features_training_set, labels_training_set, epochs = 100, batch_size = 6, verbose = 1)"
   ]
  },
  {
   "source": [
    "### Evaluating the model"
   ],
   "cell_type": "markdown",
   "metadata": {}
  },
  {
   "cell_type": "code",
   "execution_count": 36,
   "metadata": {},
   "outputs": [
    {
     "output_type": "stream",
     "name": "stdout",
     "text": [
      "The value of mean-average error is: 0.05479191616177559\nThis means that the model is 5.479191616177559% off\n"
     ]
    }
   ],
   "source": [
    "val_mse, val_mae = model.evaluate(features_training_set, labels_training_set, verbose = 0)\n",
    "\n",
    "print(f\"The value of mean-average error is: {val_mae}\\nThis means that the model is {val_mae*100}% off\")"
   ]
  },
  {
   "cell_type": "code",
   "execution_count": 48,
   "metadata": {},
   "outputs": [
    {
     "output_type": "stream",
     "name": "stdout",
     "text": [
      "The r2 score is 0.7499719713727107\nThis means the deep learning model has correct predictions 74.99719713727106% of the time\n"
     ]
    }
   ],
   "source": [
    "y_predict = model.predict(features_test_set)\n",
    "r2 = r2_score(labels_test_set,y_predict)\n",
    "print(f\"The r2 score is {r2}\\nThis means the deep learning model has correct predictions {r2*100}% of the time\")"
   ]
  },
  {
   "source": [
    "# Plots \n",
    "\n",
    "Here I will be trying to plot the deep learning model loss per epoch as well as the mean-average error per epoch for both training and validation data. "
   ],
   "cell_type": "markdown",
   "metadata": {}
  },
  {
   "cell_type": "code",
   "execution_count": 72,
   "metadata": {},
   "outputs": [
    {
     "output_type": "display_data",
     "data": {
      "text/plain": "<Figure size 936x720 with 2 Axes>",
      "image/svg+xml": "<?xml version=\"1.0\" encoding=\"utf-8\" standalone=\"no\"?>\n<!DOCTYPE svg PUBLIC \"-//W3C//DTD SVG 1.1//EN\"\n  \"http://www.w3.org/Graphics/SVG/1.1/DTD/svg11.dtd\">\n<svg height=\"603.474375pt\" version=\"1.1\" viewBox=\"0 0 779.565625 603.474375\" width=\"779.565625pt\" xmlns=\"http://www.w3.org/2000/svg\" xmlns:xlink=\"http://www.w3.org/1999/xlink\">\n <metadata>\n  <rdf:RDF xmlns:cc=\"http://creativecommons.org/ns#\" xmlns:dc=\"http://purl.org/dc/elements/1.1/\" xmlns:rdf=\"http://www.w3.org/1999/02/22-rdf-syntax-ns#\">\n   <cc:Work>\n    <dc:type rdf:resource=\"http://purl.org/dc/dcmitype/StillImage\"/>\n    <dc:date>2021-06-23T12:41:12.855404</dc:date>\n    <dc:format>image/svg+xml</dc:format>\n    <dc:creator>\n     <cc:Agent>\n      <dc:title>Matplotlib v3.4.2, https://matplotlib.org/</dc:title>\n     </cc:Agent>\n    </dc:creator>\n   </cc:Work>\n  </rdf:RDF>\n </metadata>\n <defs>\n  <style type=\"text/css\">*{stroke-linecap:butt;stroke-linejoin:round;}</style>\n </defs>\n <g id=\"figure_1\">\n  <g id=\"patch_1\">\n   <path d=\"M 0 603.474375 \nL 779.565625 603.474375 \nL 779.565625 0 \nL 0 0 \nz\n\" style=\"fill:none;\"/>\n  </g>\n  <g id=\"axes_1\">\n   <g id=\"patch_2\">\n    <path d=\"M 46.965625 269.409034 \nL 772.365625 269.409034 \nL 772.365625 22.318125 \nL 46.965625 22.318125 \nz\n\" style=\"fill:#ffffff;\"/>\n   </g>\n   <g id=\"matplotlib.axis_1\">\n    <g id=\"xtick_1\">\n     <g id=\"line2d_1\">\n      <defs>\n       <path d=\"M 0 0 \nL 0 3.5 \n\" id=\"mf2d21a9edb\" style=\"stroke:#000000;stroke-width:0.8;\"/>\n      </defs>\n      <g>\n       <use style=\"stroke:#000000;stroke-width:0.8;\" x=\"79.938352\" xlink:href=\"#mf2d21a9edb\" y=\"269.409034\"/>\n      </g>\n     </g>\n     <g id=\"text_1\">\n      <!-- 0 -->\n      <g transform=\"translate(76.757102 284.007472)scale(0.1 -0.1)\">\n       <defs>\n        <path d=\"M 2034 4250 \nQ 1547 4250 1301 3770 \nQ 1056 3291 1056 2328 \nQ 1056 1369 1301 889 \nQ 1547 409 2034 409 \nQ 2525 409 2770 889 \nQ 3016 1369 3016 2328 \nQ 3016 3291 2770 3770 \nQ 2525 4250 2034 4250 \nz\nM 2034 4750 \nQ 2819 4750 3233 4129 \nQ 3647 3509 3647 2328 \nQ 3647 1150 3233 529 \nQ 2819 -91 2034 -91 \nQ 1250 -91 836 529 \nQ 422 1150 422 2328 \nQ 422 3509 836 4129 \nQ 1250 4750 2034 4750 \nz\n\" id=\"DejaVuSans-30\" transform=\"scale(0.015625)\"/>\n       </defs>\n       <use xlink:href=\"#DejaVuSans-30\"/>\n      </g>\n     </g>\n    </g>\n    <g id=\"xtick_2\">\n     <g id=\"line2d_2\">\n      <g>\n       <use style=\"stroke:#000000;stroke-width:0.8;\" x=\"213.161493\" xlink:href=\"#mf2d21a9edb\" y=\"269.409034\"/>\n      </g>\n     </g>\n     <g id=\"text_2\">\n      <!-- 20 -->\n      <g transform=\"translate(206.798993 284.007472)scale(0.1 -0.1)\">\n       <defs>\n        <path d=\"M 1228 531 \nL 3431 531 \nL 3431 0 \nL 469 0 \nL 469 531 \nQ 828 903 1448 1529 \nQ 2069 2156 2228 2338 \nQ 2531 2678 2651 2914 \nQ 2772 3150 2772 3378 \nQ 2772 3750 2511 3984 \nQ 2250 4219 1831 4219 \nQ 1534 4219 1204 4116 \nQ 875 4013 500 3803 \nL 500 4441 \nQ 881 4594 1212 4672 \nQ 1544 4750 1819 4750 \nQ 2544 4750 2975 4387 \nQ 3406 4025 3406 3419 \nQ 3406 3131 3298 2873 \nQ 3191 2616 2906 2266 \nQ 2828 2175 2409 1742 \nQ 1991 1309 1228 531 \nz\n\" id=\"DejaVuSans-32\" transform=\"scale(0.015625)\"/>\n       </defs>\n       <use xlink:href=\"#DejaVuSans-32\"/>\n       <use x=\"63.623047\" xlink:href=\"#DejaVuSans-30\"/>\n      </g>\n     </g>\n    </g>\n    <g id=\"xtick_3\">\n     <g id=\"line2d_3\">\n      <g>\n       <use style=\"stroke:#000000;stroke-width:0.8;\" x=\"346.384633\" xlink:href=\"#mf2d21a9edb\" y=\"269.409034\"/>\n      </g>\n     </g>\n     <g id=\"text_3\">\n      <!-- 40 -->\n      <g transform=\"translate(340.022133 284.007472)scale(0.1 -0.1)\">\n       <defs>\n        <path d=\"M 2419 4116 \nL 825 1625 \nL 2419 1625 \nL 2419 4116 \nz\nM 2253 4666 \nL 3047 4666 \nL 3047 1625 \nL 3713 1625 \nL 3713 1100 \nL 3047 1100 \nL 3047 0 \nL 2419 0 \nL 2419 1100 \nL 313 1100 \nL 313 1709 \nL 2253 4666 \nz\n\" id=\"DejaVuSans-34\" transform=\"scale(0.015625)\"/>\n       </defs>\n       <use xlink:href=\"#DejaVuSans-34\"/>\n       <use x=\"63.623047\" xlink:href=\"#DejaVuSans-30\"/>\n      </g>\n     </g>\n    </g>\n    <g id=\"xtick_4\">\n     <g id=\"line2d_4\">\n      <g>\n       <use style=\"stroke:#000000;stroke-width:0.8;\" x=\"479.607774\" xlink:href=\"#mf2d21a9edb\" y=\"269.409034\"/>\n      </g>\n     </g>\n     <g id=\"text_4\">\n      <!-- 60 -->\n      <g transform=\"translate(473.245274 284.007472)scale(0.1 -0.1)\">\n       <defs>\n        <path d=\"M 2113 2584 \nQ 1688 2584 1439 2293 \nQ 1191 2003 1191 1497 \nQ 1191 994 1439 701 \nQ 1688 409 2113 409 \nQ 2538 409 2786 701 \nQ 3034 994 3034 1497 \nQ 3034 2003 2786 2293 \nQ 2538 2584 2113 2584 \nz\nM 3366 4563 \nL 3366 3988 \nQ 3128 4100 2886 4159 \nQ 2644 4219 2406 4219 \nQ 1781 4219 1451 3797 \nQ 1122 3375 1075 2522 \nQ 1259 2794 1537 2939 \nQ 1816 3084 2150 3084 \nQ 2853 3084 3261 2657 \nQ 3669 2231 3669 1497 \nQ 3669 778 3244 343 \nQ 2819 -91 2113 -91 \nQ 1303 -91 875 529 \nQ 447 1150 447 2328 \nQ 447 3434 972 4092 \nQ 1497 4750 2381 4750 \nQ 2619 4750 2861 4703 \nQ 3103 4656 3366 4563 \nz\n\" id=\"DejaVuSans-36\" transform=\"scale(0.015625)\"/>\n       </defs>\n       <use xlink:href=\"#DejaVuSans-36\"/>\n       <use x=\"63.623047\" xlink:href=\"#DejaVuSans-30\"/>\n      </g>\n     </g>\n    </g>\n    <g id=\"xtick_5\">\n     <g id=\"line2d_5\">\n      <g>\n       <use style=\"stroke:#000000;stroke-width:0.8;\" x=\"612.830914\" xlink:href=\"#mf2d21a9edb\" y=\"269.409034\"/>\n      </g>\n     </g>\n     <g id=\"text_5\">\n      <!-- 80 -->\n      <g transform=\"translate(606.468414 284.007472)scale(0.1 -0.1)\">\n       <defs>\n        <path d=\"M 2034 2216 \nQ 1584 2216 1326 1975 \nQ 1069 1734 1069 1313 \nQ 1069 891 1326 650 \nQ 1584 409 2034 409 \nQ 2484 409 2743 651 \nQ 3003 894 3003 1313 \nQ 3003 1734 2745 1975 \nQ 2488 2216 2034 2216 \nz\nM 1403 2484 \nQ 997 2584 770 2862 \nQ 544 3141 544 3541 \nQ 544 4100 942 4425 \nQ 1341 4750 2034 4750 \nQ 2731 4750 3128 4425 \nQ 3525 4100 3525 3541 \nQ 3525 3141 3298 2862 \nQ 3072 2584 2669 2484 \nQ 3125 2378 3379 2068 \nQ 3634 1759 3634 1313 \nQ 3634 634 3220 271 \nQ 2806 -91 2034 -91 \nQ 1263 -91 848 271 \nQ 434 634 434 1313 \nQ 434 1759 690 2068 \nQ 947 2378 1403 2484 \nz\nM 1172 3481 \nQ 1172 3119 1398 2916 \nQ 1625 2713 2034 2713 \nQ 2441 2713 2670 2916 \nQ 2900 3119 2900 3481 \nQ 2900 3844 2670 4047 \nQ 2441 4250 2034 4250 \nQ 1625 4250 1398 4047 \nQ 1172 3844 1172 3481 \nz\n\" id=\"DejaVuSans-38\" transform=\"scale(0.015625)\"/>\n       </defs>\n       <use xlink:href=\"#DejaVuSans-38\"/>\n       <use x=\"63.623047\" xlink:href=\"#DejaVuSans-30\"/>\n      </g>\n     </g>\n    </g>\n    <g id=\"xtick_6\">\n     <g id=\"line2d_6\">\n      <g>\n       <use style=\"stroke:#000000;stroke-width:0.8;\" x=\"746.054055\" xlink:href=\"#mf2d21a9edb\" y=\"269.409034\"/>\n      </g>\n     </g>\n     <g id=\"text_6\">\n      <!-- 100 -->\n      <g transform=\"translate(736.510305 284.007472)scale(0.1 -0.1)\">\n       <defs>\n        <path d=\"M 794 531 \nL 1825 531 \nL 1825 4091 \nL 703 3866 \nL 703 4441 \nL 1819 4666 \nL 2450 4666 \nL 2450 531 \nL 3481 531 \nL 3481 0 \nL 794 0 \nL 794 531 \nz\n\" id=\"DejaVuSans-31\" transform=\"scale(0.015625)\"/>\n       </defs>\n       <use xlink:href=\"#DejaVuSans-31\"/>\n       <use x=\"63.623047\" xlink:href=\"#DejaVuSans-30\"/>\n       <use x=\"127.246094\" xlink:href=\"#DejaVuSans-30\"/>\n      </g>\n     </g>\n    </g>\n    <g id=\"text_7\">\n     <!-- Epoch -->\n     <g transform=\"translate(394.354687 297.685597)scale(0.1 -0.1)\">\n      <defs>\n       <path d=\"M 628 4666 \nL 3578 4666 \nL 3578 4134 \nL 1259 4134 \nL 1259 2753 \nL 3481 2753 \nL 3481 2222 \nL 1259 2222 \nL 1259 531 \nL 3634 531 \nL 3634 0 \nL 628 0 \nL 628 4666 \nz\n\" id=\"DejaVuSans-45\" transform=\"scale(0.015625)\"/>\n       <path d=\"M 1159 525 \nL 1159 -1331 \nL 581 -1331 \nL 581 3500 \nL 1159 3500 \nL 1159 2969 \nQ 1341 3281 1617 3432 \nQ 1894 3584 2278 3584 \nQ 2916 3584 3314 3078 \nQ 3713 2572 3713 1747 \nQ 3713 922 3314 415 \nQ 2916 -91 2278 -91 \nQ 1894 -91 1617 61 \nQ 1341 213 1159 525 \nz\nM 3116 1747 \nQ 3116 2381 2855 2742 \nQ 2594 3103 2138 3103 \nQ 1681 3103 1420 2742 \nQ 1159 2381 1159 1747 \nQ 1159 1113 1420 752 \nQ 1681 391 2138 391 \nQ 2594 391 2855 752 \nQ 3116 1113 3116 1747 \nz\n\" id=\"DejaVuSans-70\" transform=\"scale(0.015625)\"/>\n       <path d=\"M 1959 3097 \nQ 1497 3097 1228 2736 \nQ 959 2375 959 1747 \nQ 959 1119 1226 758 \nQ 1494 397 1959 397 \nQ 2419 397 2687 759 \nQ 2956 1122 2956 1747 \nQ 2956 2369 2687 2733 \nQ 2419 3097 1959 3097 \nz\nM 1959 3584 \nQ 2709 3584 3137 3096 \nQ 3566 2609 3566 1747 \nQ 3566 888 3137 398 \nQ 2709 -91 1959 -91 \nQ 1206 -91 779 398 \nQ 353 888 353 1747 \nQ 353 2609 779 3096 \nQ 1206 3584 1959 3584 \nz\n\" id=\"DejaVuSans-6f\" transform=\"scale(0.015625)\"/>\n       <path d=\"M 3122 3366 \nL 3122 2828 \nQ 2878 2963 2633 3030 \nQ 2388 3097 2138 3097 \nQ 1578 3097 1268 2742 \nQ 959 2388 959 1747 \nQ 959 1106 1268 751 \nQ 1578 397 2138 397 \nQ 2388 397 2633 464 \nQ 2878 531 3122 666 \nL 3122 134 \nQ 2881 22 2623 -34 \nQ 2366 -91 2075 -91 \nQ 1284 -91 818 406 \nQ 353 903 353 1747 \nQ 353 2603 823 3093 \nQ 1294 3584 2113 3584 \nQ 2378 3584 2631 3529 \nQ 2884 3475 3122 3366 \nz\n\" id=\"DejaVuSans-63\" transform=\"scale(0.015625)\"/>\n       <path d=\"M 3513 2113 \nL 3513 0 \nL 2938 0 \nL 2938 2094 \nQ 2938 2591 2744 2837 \nQ 2550 3084 2163 3084 \nQ 1697 3084 1428 2787 \nQ 1159 2491 1159 1978 \nL 1159 0 \nL 581 0 \nL 581 4863 \nL 1159 4863 \nL 1159 2956 \nQ 1366 3272 1645 3428 \nQ 1925 3584 2291 3584 \nQ 2894 3584 3203 3211 \nQ 3513 2838 3513 2113 \nz\n\" id=\"DejaVuSans-68\" transform=\"scale(0.015625)\"/>\n      </defs>\n      <use xlink:href=\"#DejaVuSans-45\"/>\n      <use x=\"63.183594\" xlink:href=\"#DejaVuSans-70\"/>\n      <use x=\"126.660156\" xlink:href=\"#DejaVuSans-6f\"/>\n      <use x=\"187.841797\" xlink:href=\"#DejaVuSans-63\"/>\n      <use x=\"242.822266\" xlink:href=\"#DejaVuSans-68\"/>\n     </g>\n    </g>\n   </g>\n   <g id=\"matplotlib.axis_2\">\n    <g id=\"ytick_1\">\n     <g id=\"line2d_7\">\n      <defs>\n       <path d=\"M 0 0 \nL -3.5 0 \n\" id=\"mc2cdc14a99\" style=\"stroke:#000000;stroke-width:0.8;\"/>\n      </defs>\n      <g>\n       <use style=\"stroke:#000000;stroke-width:0.8;\" x=\"46.965625\" xlink:href=\"#mc2cdc14a99\" y=\"259.154784\"/>\n      </g>\n     </g>\n     <g id=\"text_8\">\n      <!-- 0 -->\n      <g transform=\"translate(33.603125 262.954003)scale(0.1 -0.1)\">\n       <use xlink:href=\"#DejaVuSans-30\"/>\n      </g>\n     </g>\n    </g>\n    <g id=\"ytick_2\">\n     <g id=\"line2d_8\">\n      <g>\n       <use style=\"stroke:#000000;stroke-width:0.8;\" x=\"46.965625\" xlink:href=\"#mc2cdc14a99\" y=\"225.511042\"/>\n      </g>\n     </g>\n     <g id=\"text_9\">\n      <!-- 2 -->\n      <g transform=\"translate(33.603125 229.310261)scale(0.1 -0.1)\">\n       <use xlink:href=\"#DejaVuSans-32\"/>\n      </g>\n     </g>\n    </g>\n    <g id=\"ytick_3\">\n     <g id=\"line2d_9\">\n      <g>\n       <use style=\"stroke:#000000;stroke-width:0.8;\" x=\"46.965625\" xlink:href=\"#mc2cdc14a99\" y=\"191.8673\"/>\n      </g>\n     </g>\n     <g id=\"text_10\">\n      <!-- 4 -->\n      <g transform=\"translate(33.603125 195.666519)scale(0.1 -0.1)\">\n       <use xlink:href=\"#DejaVuSans-34\"/>\n      </g>\n     </g>\n    </g>\n    <g id=\"ytick_4\">\n     <g id=\"line2d_10\">\n      <g>\n       <use style=\"stroke:#000000;stroke-width:0.8;\" x=\"46.965625\" xlink:href=\"#mc2cdc14a99\" y=\"158.223558\"/>\n      </g>\n     </g>\n     <g id=\"text_11\">\n      <!-- 6 -->\n      <g transform=\"translate(33.603125 162.022777)scale(0.1 -0.1)\">\n       <use xlink:href=\"#DejaVuSans-36\"/>\n      </g>\n     </g>\n    </g>\n    <g id=\"ytick_5\">\n     <g id=\"line2d_11\">\n      <g>\n       <use style=\"stroke:#000000;stroke-width:0.8;\" x=\"46.965625\" xlink:href=\"#mc2cdc14a99\" y=\"124.579817\"/>\n      </g>\n     </g>\n     <g id=\"text_12\">\n      <!-- 8 -->\n      <g transform=\"translate(33.603125 128.379035)scale(0.1 -0.1)\">\n       <use xlink:href=\"#DejaVuSans-38\"/>\n      </g>\n     </g>\n    </g>\n    <g id=\"ytick_6\">\n     <g id=\"line2d_12\">\n      <g>\n       <use style=\"stroke:#000000;stroke-width:0.8;\" x=\"46.965625\" xlink:href=\"#mc2cdc14a99\" y=\"90.936075\"/>\n      </g>\n     </g>\n     <g id=\"text_13\">\n      <!-- 10 -->\n      <g transform=\"translate(27.240625 94.735294)scale(0.1 -0.1)\">\n       <use xlink:href=\"#DejaVuSans-31\"/>\n       <use x=\"63.623047\" xlink:href=\"#DejaVuSans-30\"/>\n      </g>\n     </g>\n    </g>\n    <g id=\"ytick_7\">\n     <g id=\"line2d_13\">\n      <g>\n       <use style=\"stroke:#000000;stroke-width:0.8;\" x=\"46.965625\" xlink:href=\"#mc2cdc14a99\" y=\"57.292333\"/>\n      </g>\n     </g>\n     <g id=\"text_14\">\n      <!-- 12 -->\n      <g transform=\"translate(27.240625 61.091552)scale(0.1 -0.1)\">\n       <use xlink:href=\"#DejaVuSans-31\"/>\n       <use x=\"63.623047\" xlink:href=\"#DejaVuSans-32\"/>\n      </g>\n     </g>\n    </g>\n    <g id=\"ytick_8\">\n     <g id=\"line2d_14\">\n      <g>\n       <use style=\"stroke:#000000;stroke-width:0.8;\" x=\"46.965625\" xlink:href=\"#mc2cdc14a99\" y=\"23.648591\"/>\n      </g>\n     </g>\n     <g id=\"text_15\">\n      <!-- 14 -->\n      <g transform=\"translate(27.240625 27.44781)scale(0.1 -0.1)\">\n       <use xlink:href=\"#DejaVuSans-31\"/>\n       <use x=\"63.623047\" xlink:href=\"#DejaVuSans-34\"/>\n      </g>\n     </g>\n    </g>\n    <g id=\"text_16\">\n     <!-- MAE -->\n     <g transform=\"translate(21.160938 156.75733)rotate(-90)scale(0.1 -0.1)\">\n      <defs>\n       <path d=\"M 628 4666 \nL 1569 4666 \nL 2759 1491 \nL 3956 4666 \nL 4897 4666 \nL 4897 0 \nL 4281 0 \nL 4281 4097 \nL 3078 897 \nL 2444 897 \nL 1241 4097 \nL 1241 0 \nL 628 0 \nL 628 4666 \nz\n\" id=\"DejaVuSans-4d\" transform=\"scale(0.015625)\"/>\n       <path d=\"M 2188 4044 \nL 1331 1722 \nL 3047 1722 \nL 2188 4044 \nz\nM 1831 4666 \nL 2547 4666 \nL 4325 0 \nL 3669 0 \nL 3244 1197 \nL 1141 1197 \nL 716 0 \nL 50 0 \nL 1831 4666 \nz\n\" id=\"DejaVuSans-41\" transform=\"scale(0.015625)\"/>\n      </defs>\n      <use xlink:href=\"#DejaVuSans-4d\"/>\n      <use x=\"86.279297\" xlink:href=\"#DejaVuSans-41\"/>\n      <use x=\"154.6875\" xlink:href=\"#DejaVuSans-45\"/>\n     </g>\n    </g>\n   </g>\n   <g id=\"line2d_15\">\n    <path clip-path=\"url(#pf4455245bc)\" d=\"M 79.938352 33.54953 \nL 86.599509 249.118554 \nL 93.260666 255.210821 \nL 99.921823 257.193128 \nL 106.58298 257.254083 \nL 113.244137 257.248377 \nL 119.905294 257.242833 \nL 126.566451 257.262471 \nL 133.227608 257.254924 \nL 139.888765 257.264036 \nL 146.549923 257.270738 \nL 153.21108 257.26104 \nL 159.872237 257.27322 \nL 166.533394 257.276963 \nL 173.194551 257.302136 \nL 179.855708 257.286466 \nL 186.516865 257.311637 \nL 193.178022 257.309841 \nL 199.839179 257.324144 \nL 206.500336 257.326287 \nL 213.161493 257.333475 \nL 219.82265 257.339976 \nL 226.483807 257.32951 \nL 233.144964 257.331542 \nL 239.806121 257.352261 \nL 246.467278 257.362558 \nL 253.128435 257.377861 \nL 259.789592 257.356173 \nL 266.450749 257.390152 \nL 273.111906 257.396334 \nL 279.773063 257.394944 \nL 286.43422 257.414969 \nL 293.095377 257.418449 \nL 299.756534 257.436011 \nL 306.417691 257.4175 \nL 313.078848 257.40324 \nL 319.740005 257.450023 \nL 326.401162 257.473194 \nL 333.062319 257.482168 \nL 339.723476 257.465609 \nL 346.384633 257.525711 \nL 353.04579 257.494898 \nL 359.706947 257.515493 \nL 366.368104 257.545087 \nL 373.029261 257.564205 \nL 379.690418 257.581524 \nL 386.351575 257.601339 \nL 393.012732 257.598595 \nL 399.673889 257.613511 \nL 406.335046 257.630927 \nL 412.996204 257.661764 \nL 419.657361 257.647145 \nL 426.318518 257.661535 \nL 432.979675 257.713725 \nL 439.640832 257.732877 \nL 446.301989 257.737566 \nL 452.963146 257.73824 \nL 459.624303 257.798196 \nL 466.28546 257.813897 \nL 472.946617 257.814982 \nL 479.607774 257.863093 \nL 486.268931 257.904115 \nL 492.930088 257.927786 \nL 499.591245 257.937819 \nL 506.252402 257.966061 \nL 512.913559 257.898525 \nL 519.574716 257.956792 \nL 526.235873 257.992948 \nL 532.89703 258.033389 \nL 539.558187 258.038653 \nL 546.219344 258.032341 \nL 552.880501 258.038731 \nL 559.541658 258.081655 \nL 566.202815 258.069495 \nL 572.863972 258.012991 \nL 579.525129 257.981101 \nL 586.186286 258.084471 \nL 592.847443 258.06245 \nL 599.5086 258.091825 \nL 606.169757 258.128164 \nL 612.830914 258.019326 \nL 619.492071 258.114826 \nL 626.153228 258.115494 \nL 632.814385 258.107413 \nL 639.475542 258.153814 \nL 646.136699 258.134409 \nL 652.797856 258.100963 \nL 659.459013 258.020674 \nL 666.12017 258.127529 \nL 672.781327 258.099778 \nL 679.442485 258.114944 \nL 686.103642 258.145041 \nL 692.764799 257.992568 \nL 699.425956 258.00893 \nL 706.087113 257.994825 \nL 712.74827 258.126563 \nL 719.409427 258.177629 \nL 726.070584 258.059214 \nL 732.731741 258.106131 \nL 739.392898 258.158177 \n\" style=\"fill:none;stroke:#1f77b4;stroke-linecap:square;stroke-width:1.5;\"/>\n   </g>\n   <g id=\"patch_3\">\n    <path d=\"M 46.965625 269.409034 \nL 46.965625 22.318125 \n\" style=\"fill:none;stroke:#000000;stroke-linecap:square;stroke-linejoin:miter;stroke-width:0.8;\"/>\n   </g>\n   <g id=\"patch_4\">\n    <path d=\"M 772.365625 269.409034 \nL 772.365625 22.318125 \n\" style=\"fill:none;stroke:#000000;stroke-linecap:square;stroke-linejoin:miter;stroke-width:0.8;\"/>\n   </g>\n   <g id=\"patch_5\">\n    <path d=\"M 46.965625 269.409034 \nL 772.365625 269.409034 \n\" style=\"fill:none;stroke:#000000;stroke-linecap:square;stroke-linejoin:miter;stroke-width:0.8;\"/>\n   </g>\n   <g id=\"patch_6\">\n    <path d=\"M 46.965625 22.318125 \nL 772.365625 22.318125 \n\" style=\"fill:none;stroke:#000000;stroke-linecap:square;stroke-linejoin:miter;stroke-width:0.8;\"/>\n   </g>\n   <g id=\"text_17\">\n    <!-- Mean average error vs epochs -->\n    <g transform=\"translate(318.526562 16.318125)scale(0.12 -0.12)\">\n     <defs>\n      <path d=\"M 3597 1894 \nL 3597 1613 \nL 953 1613 \nQ 991 1019 1311 708 \nQ 1631 397 2203 397 \nQ 2534 397 2845 478 \nQ 3156 559 3463 722 \nL 3463 178 \nQ 3153 47 2828 -22 \nQ 2503 -91 2169 -91 \nQ 1331 -91 842 396 \nQ 353 884 353 1716 \nQ 353 2575 817 3079 \nQ 1281 3584 2069 3584 \nQ 2775 3584 3186 3129 \nQ 3597 2675 3597 1894 \nz\nM 3022 2063 \nQ 3016 2534 2758 2815 \nQ 2500 3097 2075 3097 \nQ 1594 3097 1305 2825 \nQ 1016 2553 972 2059 \nL 3022 2063 \nz\n\" id=\"DejaVuSans-65\" transform=\"scale(0.015625)\"/>\n      <path d=\"M 2194 1759 \nQ 1497 1759 1228 1600 \nQ 959 1441 959 1056 \nQ 959 750 1161 570 \nQ 1363 391 1709 391 \nQ 2188 391 2477 730 \nQ 2766 1069 2766 1631 \nL 2766 1759 \nL 2194 1759 \nz\nM 3341 1997 \nL 3341 0 \nL 2766 0 \nL 2766 531 \nQ 2569 213 2275 61 \nQ 1981 -91 1556 -91 \nQ 1019 -91 701 211 \nQ 384 513 384 1019 \nQ 384 1609 779 1909 \nQ 1175 2209 1959 2209 \nL 2766 2209 \nL 2766 2266 \nQ 2766 2663 2505 2880 \nQ 2244 3097 1772 3097 \nQ 1472 3097 1187 3025 \nQ 903 2953 641 2809 \nL 641 3341 \nQ 956 3463 1253 3523 \nQ 1550 3584 1831 3584 \nQ 2591 3584 2966 3190 \nQ 3341 2797 3341 1997 \nz\n\" id=\"DejaVuSans-61\" transform=\"scale(0.015625)\"/>\n      <path d=\"M 3513 2113 \nL 3513 0 \nL 2938 0 \nL 2938 2094 \nQ 2938 2591 2744 2837 \nQ 2550 3084 2163 3084 \nQ 1697 3084 1428 2787 \nQ 1159 2491 1159 1978 \nL 1159 0 \nL 581 0 \nL 581 3500 \nL 1159 3500 \nL 1159 2956 \nQ 1366 3272 1645 3428 \nQ 1925 3584 2291 3584 \nQ 2894 3584 3203 3211 \nQ 3513 2838 3513 2113 \nz\n\" id=\"DejaVuSans-6e\" transform=\"scale(0.015625)\"/>\n      <path id=\"DejaVuSans-20\" transform=\"scale(0.015625)\"/>\n      <path d=\"M 191 3500 \nL 800 3500 \nL 1894 563 \nL 2988 3500 \nL 3597 3500 \nL 2284 0 \nL 1503 0 \nL 191 3500 \nz\n\" id=\"DejaVuSans-76\" transform=\"scale(0.015625)\"/>\n      <path d=\"M 2631 2963 \nQ 2534 3019 2420 3045 \nQ 2306 3072 2169 3072 \nQ 1681 3072 1420 2755 \nQ 1159 2438 1159 1844 \nL 1159 0 \nL 581 0 \nL 581 3500 \nL 1159 3500 \nL 1159 2956 \nQ 1341 3275 1631 3429 \nQ 1922 3584 2338 3584 \nQ 2397 3584 2469 3576 \nQ 2541 3569 2628 3553 \nL 2631 2963 \nz\n\" id=\"DejaVuSans-72\" transform=\"scale(0.015625)\"/>\n      <path d=\"M 2906 1791 \nQ 2906 2416 2648 2759 \nQ 2391 3103 1925 3103 \nQ 1463 3103 1205 2759 \nQ 947 2416 947 1791 \nQ 947 1169 1205 825 \nQ 1463 481 1925 481 \nQ 2391 481 2648 825 \nQ 2906 1169 2906 1791 \nz\nM 3481 434 \nQ 3481 -459 3084 -895 \nQ 2688 -1331 1869 -1331 \nQ 1566 -1331 1297 -1286 \nQ 1028 -1241 775 -1147 \nL 775 -588 \nQ 1028 -725 1275 -790 \nQ 1522 -856 1778 -856 \nQ 2344 -856 2625 -561 \nQ 2906 -266 2906 331 \nL 2906 616 \nQ 2728 306 2450 153 \nQ 2172 0 1784 0 \nQ 1141 0 747 490 \nQ 353 981 353 1791 \nQ 353 2603 747 3093 \nQ 1141 3584 1784 3584 \nQ 2172 3584 2450 3431 \nQ 2728 3278 2906 2969 \nL 2906 3500 \nL 3481 3500 \nL 3481 434 \nz\n\" id=\"DejaVuSans-67\" transform=\"scale(0.015625)\"/>\n      <path d=\"M 2834 3397 \nL 2834 2853 \nQ 2591 2978 2328 3040 \nQ 2066 3103 1784 3103 \nQ 1356 3103 1142 2972 \nQ 928 2841 928 2578 \nQ 928 2378 1081 2264 \nQ 1234 2150 1697 2047 \nL 1894 2003 \nQ 2506 1872 2764 1633 \nQ 3022 1394 3022 966 \nQ 3022 478 2636 193 \nQ 2250 -91 1575 -91 \nQ 1294 -91 989 -36 \nQ 684 19 347 128 \nL 347 722 \nQ 666 556 975 473 \nQ 1284 391 1588 391 \nQ 1994 391 2212 530 \nQ 2431 669 2431 922 \nQ 2431 1156 2273 1281 \nQ 2116 1406 1581 1522 \nL 1381 1569 \nQ 847 1681 609 1914 \nQ 372 2147 372 2553 \nQ 372 3047 722 3315 \nQ 1072 3584 1716 3584 \nQ 2034 3584 2315 3537 \nQ 2597 3491 2834 3397 \nz\n\" id=\"DejaVuSans-73\" transform=\"scale(0.015625)\"/>\n     </defs>\n     <use xlink:href=\"#DejaVuSans-4d\"/>\n     <use x=\"86.279297\" xlink:href=\"#DejaVuSans-65\"/>\n     <use x=\"147.802734\" xlink:href=\"#DejaVuSans-61\"/>\n     <use x=\"209.082031\" xlink:href=\"#DejaVuSans-6e\"/>\n     <use x=\"272.460938\" xlink:href=\"#DejaVuSans-20\"/>\n     <use x=\"304.248047\" xlink:href=\"#DejaVuSans-61\"/>\n     <use x=\"365.527344\" xlink:href=\"#DejaVuSans-76\"/>\n     <use x=\"424.707031\" xlink:href=\"#DejaVuSans-65\"/>\n     <use x=\"486.230469\" xlink:href=\"#DejaVuSans-72\"/>\n     <use x=\"527.34375\" xlink:href=\"#DejaVuSans-61\"/>\n     <use x=\"588.623047\" xlink:href=\"#DejaVuSans-67\"/>\n     <use x=\"652.099609\" xlink:href=\"#DejaVuSans-65\"/>\n     <use x=\"713.623047\" xlink:href=\"#DejaVuSans-20\"/>\n     <use x=\"745.410156\" xlink:href=\"#DejaVuSans-65\"/>\n     <use x=\"806.933594\" xlink:href=\"#DejaVuSans-72\"/>\n     <use x=\"846.296875\" xlink:href=\"#DejaVuSans-72\"/>\n     <use x=\"885.160156\" xlink:href=\"#DejaVuSans-6f\"/>\n     <use x=\"946.341797\" xlink:href=\"#DejaVuSans-72\"/>\n     <use x=\"987.455078\" xlink:href=\"#DejaVuSans-20\"/>\n     <use x=\"1019.242188\" xlink:href=\"#DejaVuSans-76\"/>\n     <use x=\"1078.421875\" xlink:href=\"#DejaVuSans-73\"/>\n     <use x=\"1130.521484\" xlink:href=\"#DejaVuSans-20\"/>\n     <use x=\"1162.308594\" xlink:href=\"#DejaVuSans-65\"/>\n     <use x=\"1223.832031\" xlink:href=\"#DejaVuSans-70\"/>\n     <use x=\"1287.308594\" xlink:href=\"#DejaVuSans-6f\"/>\n     <use x=\"1348.490234\" xlink:href=\"#DejaVuSans-63\"/>\n     <use x=\"1403.470703\" xlink:href=\"#DejaVuSans-68\"/>\n     <use x=\"1466.849609\" xlink:href=\"#DejaVuSans-73\"/>\n    </g>\n   </g>\n   <g id=\"legend_1\">\n    <g id=\"patch_7\">\n     <path d=\"M 710.090625 44.99625 \nL 765.365625 44.99625 \nQ 767.365625 44.99625 767.365625 42.99625 \nL 767.365625 29.318125 \nQ 767.365625 27.318125 765.365625 27.318125 \nL 710.090625 27.318125 \nQ 708.090625 27.318125 708.090625 29.318125 \nL 708.090625 42.99625 \nQ 708.090625 44.99625 710.090625 44.99625 \nz\n\" style=\"fill:#ffffff;opacity:0.8;stroke:#cccccc;stroke-linejoin:miter;\"/>\n    </g>\n    <g id=\"line2d_16\">\n     <path d=\"M 712.090625 35.416562 \nL 732.090625 35.416562 \n\" style=\"fill:none;stroke:#1f77b4;stroke-linecap:square;stroke-width:1.5;\"/>\n    </g>\n    <g id=\"line2d_17\"/>\n    <g id=\"text_18\">\n     <!-- train -->\n     <g transform=\"translate(740.090625 38.916562)scale(0.1 -0.1)\">\n      <defs>\n       <path d=\"M 1172 4494 \nL 1172 3500 \nL 2356 3500 \nL 2356 3053 \nL 1172 3053 \nL 1172 1153 \nQ 1172 725 1289 603 \nQ 1406 481 1766 481 \nL 2356 481 \nL 2356 0 \nL 1766 0 \nQ 1100 0 847 248 \nQ 594 497 594 1153 \nL 594 3053 \nL 172 3053 \nL 172 3500 \nL 594 3500 \nL 594 4494 \nL 1172 4494 \nz\n\" id=\"DejaVuSans-74\" transform=\"scale(0.015625)\"/>\n       <path d=\"M 603 3500 \nL 1178 3500 \nL 1178 0 \nL 603 0 \nL 603 3500 \nz\nM 603 4863 \nL 1178 4863 \nL 1178 4134 \nL 603 4134 \nL 603 4863 \nz\n\" id=\"DejaVuSans-69\" transform=\"scale(0.015625)\"/>\n      </defs>\n      <use xlink:href=\"#DejaVuSans-74\"/>\n      <use x=\"39.208984\" xlink:href=\"#DejaVuSans-72\"/>\n      <use x=\"80.322266\" xlink:href=\"#DejaVuSans-61\"/>\n      <use x=\"141.601562\" xlink:href=\"#DejaVuSans-69\"/>\n      <use x=\"169.384766\" xlink:href=\"#DejaVuSans-6e\"/>\n     </g>\n    </g>\n   </g>\n  </g>\n  <g id=\"axes_2\">\n   <g id=\"patch_8\">\n    <path d=\"M 46.965625 565.918125 \nL 772.365625 565.918125 \nL 772.365625 318.827216 \nL 46.965625 318.827216 \nz\n\" style=\"fill:#ffffff;\"/>\n   </g>\n   <g id=\"matplotlib.axis_3\">\n    <g id=\"xtick_7\">\n     <g id=\"line2d_18\">\n      <g>\n       <use style=\"stroke:#000000;stroke-width:0.8;\" x=\"79.938352\" xlink:href=\"#mf2d21a9edb\" y=\"565.918125\"/>\n      </g>\n     </g>\n     <g id=\"text_19\">\n      <!-- 0 -->\n      <g transform=\"translate(76.757102 580.516562)scale(0.1 -0.1)\">\n       <use xlink:href=\"#DejaVuSans-30\"/>\n      </g>\n     </g>\n    </g>\n    <g id=\"xtick_8\">\n     <g id=\"line2d_19\">\n      <g>\n       <use style=\"stroke:#000000;stroke-width:0.8;\" x=\"213.161493\" xlink:href=\"#mf2d21a9edb\" y=\"565.918125\"/>\n      </g>\n     </g>\n     <g id=\"text_20\">\n      <!-- 20 -->\n      <g transform=\"translate(206.798993 580.516562)scale(0.1 -0.1)\">\n       <use xlink:href=\"#DejaVuSans-32\"/>\n       <use x=\"63.623047\" xlink:href=\"#DejaVuSans-30\"/>\n      </g>\n     </g>\n    </g>\n    <g id=\"xtick_9\">\n     <g id=\"line2d_20\">\n      <g>\n       <use style=\"stroke:#000000;stroke-width:0.8;\" x=\"346.384633\" xlink:href=\"#mf2d21a9edb\" y=\"565.918125\"/>\n      </g>\n     </g>\n     <g id=\"text_21\">\n      <!-- 40 -->\n      <g transform=\"translate(340.022133 580.516562)scale(0.1 -0.1)\">\n       <use xlink:href=\"#DejaVuSans-34\"/>\n       <use x=\"63.623047\" xlink:href=\"#DejaVuSans-30\"/>\n      </g>\n     </g>\n    </g>\n    <g id=\"xtick_10\">\n     <g id=\"line2d_21\">\n      <g>\n       <use style=\"stroke:#000000;stroke-width:0.8;\" x=\"479.607774\" xlink:href=\"#mf2d21a9edb\" y=\"565.918125\"/>\n      </g>\n     </g>\n     <g id=\"text_22\">\n      <!-- 60 -->\n      <g transform=\"translate(473.245274 580.516562)scale(0.1 -0.1)\">\n       <use xlink:href=\"#DejaVuSans-36\"/>\n       <use x=\"63.623047\" xlink:href=\"#DejaVuSans-30\"/>\n      </g>\n     </g>\n    </g>\n    <g id=\"xtick_11\">\n     <g id=\"line2d_22\">\n      <g>\n       <use style=\"stroke:#000000;stroke-width:0.8;\" x=\"612.830914\" xlink:href=\"#mf2d21a9edb\" y=\"565.918125\"/>\n      </g>\n     </g>\n     <g id=\"text_23\">\n      <!-- 80 -->\n      <g transform=\"translate(606.468414 580.516562)scale(0.1 -0.1)\">\n       <use xlink:href=\"#DejaVuSans-38\"/>\n       <use x=\"63.623047\" xlink:href=\"#DejaVuSans-30\"/>\n      </g>\n     </g>\n    </g>\n    <g id=\"xtick_12\">\n     <g id=\"line2d_23\">\n      <g>\n       <use style=\"stroke:#000000;stroke-width:0.8;\" x=\"746.054055\" xlink:href=\"#mf2d21a9edb\" y=\"565.918125\"/>\n      </g>\n     </g>\n     <g id=\"text_24\">\n      <!-- 100 -->\n      <g transform=\"translate(736.510305 580.516562)scale(0.1 -0.1)\">\n       <use xlink:href=\"#DejaVuSans-31\"/>\n       <use x=\"63.623047\" xlink:href=\"#DejaVuSans-30\"/>\n       <use x=\"127.246094\" xlink:href=\"#DejaVuSans-30\"/>\n      </g>\n     </g>\n    </g>\n    <g id=\"text_25\">\n     <!-- Epoch -->\n     <g transform=\"translate(394.354687 594.194687)scale(0.1 -0.1)\">\n      <use xlink:href=\"#DejaVuSans-45\"/>\n      <use x=\"63.183594\" xlink:href=\"#DejaVuSans-70\"/>\n      <use x=\"126.660156\" xlink:href=\"#DejaVuSans-6f\"/>\n      <use x=\"187.841797\" xlink:href=\"#DejaVuSans-63\"/>\n      <use x=\"242.822266\" xlink:href=\"#DejaVuSans-68\"/>\n     </g>\n    </g>\n   </g>\n   <g id=\"matplotlib.axis_4\">\n    <g id=\"ytick_9\">\n     <g id=\"line2d_24\">\n      <g>\n       <use style=\"stroke:#000000;stroke-width:0.8;\" x=\"46.965625\" xlink:href=\"#mc2cdc14a99\" y=\"554.688554\"/>\n      </g>\n     </g>\n     <g id=\"text_26\">\n      <!-- 0 -->\n      <g transform=\"translate(33.603125 558.487773)scale(0.1 -0.1)\">\n       <use xlink:href=\"#DejaVuSans-30\"/>\n      </g>\n     </g>\n    </g>\n    <g id=\"ytick_10\">\n     <g id=\"line2d_25\">\n      <g>\n       <use style=\"stroke:#000000;stroke-width:0.8;\" x=\"46.965625\" xlink:href=\"#mc2cdc14a99\" y=\"524.627418\"/>\n      </g>\n     </g>\n     <g id=\"text_27\">\n      <!-- 100 -->\n      <g transform=\"translate(20.878125 528.426637)scale(0.1 -0.1)\">\n       <use xlink:href=\"#DejaVuSans-31\"/>\n       <use x=\"63.623047\" xlink:href=\"#DejaVuSans-30\"/>\n       <use x=\"127.246094\" xlink:href=\"#DejaVuSans-30\"/>\n      </g>\n     </g>\n    </g>\n    <g id=\"ytick_11\">\n     <g id=\"line2d_26\">\n      <g>\n       <use style=\"stroke:#000000;stroke-width:0.8;\" x=\"46.965625\" xlink:href=\"#mc2cdc14a99\" y=\"494.566281\"/>\n      </g>\n     </g>\n     <g id=\"text_28\">\n      <!-- 200 -->\n      <g transform=\"translate(20.878125 498.3655)scale(0.1 -0.1)\">\n       <use xlink:href=\"#DejaVuSans-32\"/>\n       <use x=\"63.623047\" xlink:href=\"#DejaVuSans-30\"/>\n       <use x=\"127.246094\" xlink:href=\"#DejaVuSans-30\"/>\n      </g>\n     </g>\n    </g>\n    <g id=\"ytick_12\">\n     <g id=\"line2d_27\">\n      <g>\n       <use style=\"stroke:#000000;stroke-width:0.8;\" x=\"46.965625\" xlink:href=\"#mc2cdc14a99\" y=\"464.505145\"/>\n      </g>\n     </g>\n     <g id=\"text_29\">\n      <!-- 300 -->\n      <g transform=\"translate(20.878125 468.304364)scale(0.1 -0.1)\">\n       <defs>\n        <path d=\"M 2597 2516 \nQ 3050 2419 3304 2112 \nQ 3559 1806 3559 1356 \nQ 3559 666 3084 287 \nQ 2609 -91 1734 -91 \nQ 1441 -91 1130 -33 \nQ 819 25 488 141 \nL 488 750 \nQ 750 597 1062 519 \nQ 1375 441 1716 441 \nQ 2309 441 2620 675 \nQ 2931 909 2931 1356 \nQ 2931 1769 2642 2001 \nQ 2353 2234 1838 2234 \nL 1294 2234 \nL 1294 2753 \nL 1863 2753 \nQ 2328 2753 2575 2939 \nQ 2822 3125 2822 3475 \nQ 2822 3834 2567 4026 \nQ 2313 4219 1838 4219 \nQ 1578 4219 1281 4162 \nQ 984 4106 628 3988 \nL 628 4550 \nQ 988 4650 1302 4700 \nQ 1616 4750 1894 4750 \nQ 2613 4750 3031 4423 \nQ 3450 4097 3450 3541 \nQ 3450 3153 3228 2886 \nQ 3006 2619 2597 2516 \nz\n\" id=\"DejaVuSans-33\" transform=\"scale(0.015625)\"/>\n       </defs>\n       <use xlink:href=\"#DejaVuSans-33\"/>\n       <use x=\"63.623047\" xlink:href=\"#DejaVuSans-30\"/>\n       <use x=\"127.246094\" xlink:href=\"#DejaVuSans-30\"/>\n      </g>\n     </g>\n    </g>\n    <g id=\"ytick_13\">\n     <g id=\"line2d_28\">\n      <g>\n       <use style=\"stroke:#000000;stroke-width:0.8;\" x=\"46.965625\" xlink:href=\"#mc2cdc14a99\" y=\"434.444009\"/>\n      </g>\n     </g>\n     <g id=\"text_30\">\n      <!-- 400 -->\n      <g transform=\"translate(20.878125 438.243227)scale(0.1 -0.1)\">\n       <use xlink:href=\"#DejaVuSans-34\"/>\n       <use x=\"63.623047\" xlink:href=\"#DejaVuSans-30\"/>\n       <use x=\"127.246094\" xlink:href=\"#DejaVuSans-30\"/>\n      </g>\n     </g>\n    </g>\n    <g id=\"ytick_14\">\n     <g id=\"line2d_29\">\n      <g>\n       <use style=\"stroke:#000000;stroke-width:0.8;\" x=\"46.965625\" xlink:href=\"#mc2cdc14a99\" y=\"404.382872\"/>\n      </g>\n     </g>\n     <g id=\"text_31\">\n      <!-- 500 -->\n      <g transform=\"translate(20.878125 408.182091)scale(0.1 -0.1)\">\n       <defs>\n        <path d=\"M 691 4666 \nL 3169 4666 \nL 3169 4134 \nL 1269 4134 \nL 1269 2991 \nQ 1406 3038 1543 3061 \nQ 1681 3084 1819 3084 \nQ 2600 3084 3056 2656 \nQ 3513 2228 3513 1497 \nQ 3513 744 3044 326 \nQ 2575 -91 1722 -91 \nQ 1428 -91 1123 -41 \nQ 819 9 494 109 \nL 494 744 \nQ 775 591 1075 516 \nQ 1375 441 1709 441 \nQ 2250 441 2565 725 \nQ 2881 1009 2881 1497 \nQ 2881 1984 2565 2268 \nQ 2250 2553 1709 2553 \nQ 1456 2553 1204 2497 \nQ 953 2441 691 2322 \nL 691 4666 \nz\n\" id=\"DejaVuSans-35\" transform=\"scale(0.015625)\"/>\n       </defs>\n       <use xlink:href=\"#DejaVuSans-35\"/>\n       <use x=\"63.623047\" xlink:href=\"#DejaVuSans-30\"/>\n       <use x=\"127.246094\" xlink:href=\"#DejaVuSans-30\"/>\n      </g>\n     </g>\n    </g>\n    <g id=\"ytick_15\">\n     <g id=\"line2d_30\">\n      <g>\n       <use style=\"stroke:#000000;stroke-width:0.8;\" x=\"46.965625\" xlink:href=\"#mc2cdc14a99\" y=\"374.321736\"/>\n      </g>\n     </g>\n     <g id=\"text_32\">\n      <!-- 600 -->\n      <g transform=\"translate(20.878125 378.120955)scale(0.1 -0.1)\">\n       <use xlink:href=\"#DejaVuSans-36\"/>\n       <use x=\"63.623047\" xlink:href=\"#DejaVuSans-30\"/>\n       <use x=\"127.246094\" xlink:href=\"#DejaVuSans-30\"/>\n      </g>\n     </g>\n    </g>\n    <g id=\"ytick_16\">\n     <g id=\"line2d_31\">\n      <g>\n       <use style=\"stroke:#000000;stroke-width:0.8;\" x=\"46.965625\" xlink:href=\"#mc2cdc14a99\" y=\"344.2606\"/>\n      </g>\n     </g>\n     <g id=\"text_33\">\n      <!-- 700 -->\n      <g transform=\"translate(20.878125 348.059818)scale(0.1 -0.1)\">\n       <defs>\n        <path d=\"M 525 4666 \nL 3525 4666 \nL 3525 4397 \nL 1831 0 \nL 1172 0 \nL 2766 4134 \nL 525 4134 \nL 525 4666 \nz\n\" id=\"DejaVuSans-37\" transform=\"scale(0.015625)\"/>\n       </defs>\n       <use xlink:href=\"#DejaVuSans-37\"/>\n       <use x=\"63.623047\" xlink:href=\"#DejaVuSans-30\"/>\n       <use x=\"127.246094\" xlink:href=\"#DejaVuSans-30\"/>\n      </g>\n     </g>\n    </g>\n    <g id=\"text_34\">\n     <!-- Loss -->\n     <g transform=\"translate(14.798438 453.339858)rotate(-90)scale(0.1 -0.1)\">\n      <defs>\n       <path d=\"M 628 4666 \nL 1259 4666 \nL 1259 531 \nL 3531 531 \nL 3531 0 \nL 628 0 \nL 628 4666 \nz\n\" id=\"DejaVuSans-4c\" transform=\"scale(0.015625)\"/>\n      </defs>\n      <use xlink:href=\"#DejaVuSans-4c\"/>\n      <use x=\"53.962891\" xlink:href=\"#DejaVuSans-6f\"/>\n      <use x=\"115.144531\" xlink:href=\"#DejaVuSans-73\"/>\n      <use x=\"167.244141\" xlink:href=\"#DejaVuSans-73\"/>\n     </g>\n    </g>\n   </g>\n   <g id=\"line2d_32\">\n    <path clip-path=\"url(#pb493a67e34)\" d=\"M 79.938352 330.058621 \nL 86.599509 554.571983 \nL 93.260666 554.665967 \nL 99.921823 554.682439 \nL 106.58298 554.682696 \nL 113.244137 554.682683 \nL 119.905294 554.682671 \nL 126.566451 554.68274 \nL 133.227608 554.682741 \nL 139.888765 554.682734 \nL 146.549923 554.682831 \nL 153.21108 554.682765 \nL 159.872237 554.682856 \nL 166.533394 554.682828 \nL 173.194551 554.682939 \nL 179.855708 554.682971 \nL 186.516865 554.683023 \nL 193.178022 554.683049 \nL 199.839179 554.68311 \nL 206.500336 554.683107 \nL 213.161493 554.683158 \nL 219.82265 554.683188 \nL 226.483807 554.68318 \nL 233.144964 554.683224 \nL 239.806121 554.683284 \nL 246.467278 554.683367 \nL 253.128435 554.683432 \nL 259.789592 554.683344 \nL 266.450749 554.683489 \nL 273.111906 554.683521 \nL 279.773063 554.683541 \nL 286.43422 554.683627 \nL 293.095377 554.683658 \nL 299.756534 554.683706 \nL 306.417691 554.683643 \nL 313.078848 554.683687 \nL 319.740005 554.683789 \nL 326.401162 554.683879 \nL 333.062319 554.684001 \nL 339.723476 554.683959 \nL 346.384633 554.684119 \nL 353.04579 554.684093 \nL 359.706947 554.684162 \nL 366.368104 554.684355 \nL 373.029261 554.684464 \nL 379.690418 554.684494 \nL 386.351575 554.684569 \nL 393.012732 554.68462 \nL 399.673889 554.684623 \nL 406.335046 554.68478 \nL 412.996204 554.684865 \nL 419.657361 554.684772 \nL 426.318518 554.6849 \nL 432.979675 554.685045 \nL 439.640832 554.685289 \nL 446.301989 554.685209 \nL 452.963146 554.685237 \nL 459.624303 554.685449 \nL 466.28546 554.685519 \nL 472.946617 554.685483 \nL 479.607774 554.685692 \nL 486.268931 554.685846 \nL 492.930088 554.685965 \nL 499.591245 554.686019 \nL 506.252402 554.686043 \nL 512.913559 554.685752 \nL 519.574716 554.686047 \nL 526.235873 554.686168 \nL 532.89703 554.686283 \nL 539.558187 554.686302 \nL 546.219344 554.686279 \nL 552.880501 554.686245 \nL 559.541658 554.686472 \nL 566.202815 554.686433 \nL 572.863972 554.6861 \nL 579.525129 554.686078 \nL 586.186286 554.686417 \nL 592.847443 554.686331 \nL 599.5086 554.686449 \nL 606.169757 554.686589 \nL 612.830914 554.686295 \nL 619.492071 554.686454 \nL 626.153228 554.686502 \nL 632.814385 554.686456 \nL 639.475542 554.686688 \nL 646.136699 554.686588 \nL 652.797856 554.686421 \nL 659.459013 554.686236 \nL 666.12017 554.6866 \nL 672.781327 554.686465 \nL 679.442485 554.686492 \nL 686.103642 554.686562 \nL 692.764799 554.686081 \nL 699.425956 554.686247 \nL 706.087113 554.686249 \nL 712.74827 554.686604 \nL 719.409427 554.68672 \nL 726.070584 554.686425 \nL 732.731741 554.686516 \nL 739.392898 554.686633 \n\" style=\"fill:none;stroke:#1f77b4;stroke-linecap:square;stroke-width:1.5;\"/>\n   </g>\n   <g id=\"patch_9\">\n    <path d=\"M 46.965625 565.918125 \nL 46.965625 318.827216 \n\" style=\"fill:none;stroke:#000000;stroke-linecap:square;stroke-linejoin:miter;stroke-width:0.8;\"/>\n   </g>\n   <g id=\"patch_10\">\n    <path d=\"M 772.365625 565.918125 \nL 772.365625 318.827216 \n\" style=\"fill:none;stroke:#000000;stroke-linecap:square;stroke-linejoin:miter;stroke-width:0.8;\"/>\n   </g>\n   <g id=\"patch_11\">\n    <path d=\"M 46.965625 565.918125 \nL 772.365625 565.918125 \n\" style=\"fill:none;stroke:#000000;stroke-linecap:square;stroke-linejoin:miter;stroke-width:0.8;\"/>\n   </g>\n   <g id=\"patch_12\">\n    <path d=\"M 46.965625 318.827216 \nL 772.365625 318.827216 \n\" style=\"fill:none;stroke:#000000;stroke-linecap:square;stroke-linejoin:miter;stroke-width:0.8;\"/>\n   </g>\n   <g id=\"text_35\">\n    <!-- Loss vs. Epochs -->\n    <g transform=\"translate(362.60875 312.827216)scale(0.12 -0.12)\">\n     <defs>\n      <path d=\"M 684 794 \nL 1344 794 \nL 1344 0 \nL 684 0 \nL 684 794 \nz\n\" id=\"DejaVuSans-2e\" transform=\"scale(0.015625)\"/>\n     </defs>\n     <use xlink:href=\"#DejaVuSans-4c\"/>\n     <use x=\"53.962891\" xlink:href=\"#DejaVuSans-6f\"/>\n     <use x=\"115.144531\" xlink:href=\"#DejaVuSans-73\"/>\n     <use x=\"167.244141\" xlink:href=\"#DejaVuSans-73\"/>\n     <use x=\"219.34375\" xlink:href=\"#DejaVuSans-20\"/>\n     <use x=\"251.130859\" xlink:href=\"#DejaVuSans-76\"/>\n     <use x=\"310.310547\" xlink:href=\"#DejaVuSans-73\"/>\n     <use x=\"362.410156\" xlink:href=\"#DejaVuSans-2e\"/>\n     <use x=\"394.197266\" xlink:href=\"#DejaVuSans-20\"/>\n     <use x=\"425.984375\" xlink:href=\"#DejaVuSans-45\"/>\n     <use x=\"489.167969\" xlink:href=\"#DejaVuSans-70\"/>\n     <use x=\"552.644531\" xlink:href=\"#DejaVuSans-6f\"/>\n     <use x=\"613.826172\" xlink:href=\"#DejaVuSans-63\"/>\n     <use x=\"668.806641\" xlink:href=\"#DejaVuSans-68\"/>\n     <use x=\"732.185547\" xlink:href=\"#DejaVuSans-73\"/>\n    </g>\n   </g>\n   <g id=\"legend_2\">\n    <g id=\"patch_13\">\n     <path d=\"M 710.090625 341.505341 \nL 765.365625 341.505341 \nQ 767.365625 341.505341 767.365625 339.505341 \nL 767.365625 325.827216 \nQ 767.365625 323.827216 765.365625 323.827216 \nL 710.090625 323.827216 \nQ 708.090625 323.827216 708.090625 325.827216 \nL 708.090625 339.505341 \nQ 708.090625 341.505341 710.090625 341.505341 \nz\n\" style=\"fill:#ffffff;opacity:0.8;stroke:#cccccc;stroke-linejoin:miter;\"/>\n    </g>\n    <g id=\"line2d_33\">\n     <path d=\"M 712.090625 331.925653 \nL 732.090625 331.925653 \n\" style=\"fill:none;stroke:#1f77b4;stroke-linecap:square;stroke-width:1.5;\"/>\n    </g>\n    <g id=\"line2d_34\"/>\n    <g id=\"text_36\">\n     <!-- train -->\n     <g transform=\"translate(740.090625 335.425653)scale(0.1 -0.1)\">\n      <use xlink:href=\"#DejaVuSans-74\"/>\n      <use x=\"39.208984\" xlink:href=\"#DejaVuSans-72\"/>\n      <use x=\"80.322266\" xlink:href=\"#DejaVuSans-61\"/>\n      <use x=\"141.601562\" xlink:href=\"#DejaVuSans-69\"/>\n      <use x=\"169.384766\" xlink:href=\"#DejaVuSans-6e\"/>\n     </g>\n    </g>\n   </g>\n  </g>\n </g>\n <defs>\n  <clipPath id=\"pf4455245bc\">\n   <rect height=\"247.090909\" width=\"725.4\" x=\"46.965625\" y=\"22.318125\"/>\n  </clipPath>\n  <clipPath id=\"pb493a67e34\">\n   <rect height=\"247.090909\" width=\"725.4\" x=\"46.965625\" y=\"318.827216\"/>\n  </clipPath>\n </defs>\n</svg>\n",
      "image/png": "[encoded data removed]"
     },
     "metadata": {
      "needs_background": "light"
     }
    }
   ],
   "source": [
    "\n",
    "train_history_mae = history.history['mae']\n",
    "fig = plt.figure(figsize=(13,10))\n",
    "ax1 = fig.add_subplot(2, 1, 1)\n",
    "ax1.plot(train_history_mae)\n",
    "ax1.set_title('Mean average error vs epochs')\n",
    "ax1.set_ylabel('MAE')\n",
    "ax1.set_xlabel('Epoch')\n",
    "ax1.legend(['train', 'validation'], loc='upper right')\n",
    "\n",
    "\n",
    "train_history_loss = history.history['loss']\n",
    "ax2 = fig.add_subplot(2, 1, 2)\n",
    "ax2.plot(train_history_loss)\n",
    "ax2.set_title('Loss vs. Epochs')\n",
    "ax2.set_ylabel('Loss')\n",
    "ax2.set_xlabel('Epoch')\n",
    "ax2.legend(['train', 'validation'], loc='upper right')\n",
    "\n",
    "plt.show()"
   ]
  },
  {
   "cell_type": "code",
   "execution_count": null,
   "metadata": {},
   "outputs": [],
   "source": []
  }
 ]
}