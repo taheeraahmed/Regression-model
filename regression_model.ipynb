{
 "metadata": {
  "language_info": {
   "codemirror_mode": {
    "name": "ipython",
    "version": 3
   },
   "file_extension": ".py",
   "mimetype": "text/x-python",
   "name": "python",
   "nbconvert_exporter": "python",
   "pygments_lexer": "ipython3",
   "version": "3.9.5"
  },
  "orig_nbformat": 4,
  "kernelspec": {
   "name": "python3",
   "display_name": "Python 3.9.5 64-bit"
  },
  "interpreter": {
   "hash": "aee8b7b246df8f9039afb4144a1f6fd8d2ca17a180786b69acc140d282b71a49"
  }
 },
 "nbformat": 4,
 "nbformat_minor": 2,
 "cells": [
  {
   "source": [
    "# Deep learning regression model\n",
    "\n",
    "## Project goal\n",
    "The goal of this project is to develop a deep learning regression model which is to predict the probability that a student will be accepted to graduate schools. This willl be based on different application factors from a dataset from kaggle. \n"
   ],
   "cell_type": "markdown",
   "metadata": {}
  },
  {
   "cell_type": "code",
   "execution_count": 23,
   "metadata": {},
   "outputs": [],
   "source": [
    "import pandas as pd\n",
    "import numpy as np\n",
    "import matplotlib.pyplot as plt\n",
    "\n",
    "import tensorflow as tf\n",
    "from tensorflow\timport keras\n",
    "from tensorflow.keras.models import Sequential\n",
    "from tensorflow.keras.callbacks import EarlyStopping\n",
    "from tensorflow.keras import layers\n",
    "from tensorflow.keras.layers import InputLayer, Dense\n",
    "from tensorflow.keras.optimizers import Adam\n",
    "\n",
    "from sklearn.model_selection import train_test_split\n",
    "from sklearn.preprocessing import StandardScaler\n",
    "from sklearn.preprocessing import Normalizer\n",
    "from sklearn.metrics import r2_score\n",
    "from sklearn.compose import ColumnTransformer\n"
   ]
  },
  {
   "source": [
    "## The dataset\n",
    "The dataset being used is from Kaggle. It contains information about 500 students from different universities. The dataset consists of different types of attributes like their GRE Score,TOEFL Score,University Rating and so on.\n"
   ],
   "cell_type": "markdown",
   "metadata": {}
  },
  {
   "cell_type": "code",
   "execution_count": 24,
   "metadata": {},
   "outputs": [
    {
     "output_type": "execute_result",
     "data": {
      "text/plain": [
       "       Serial No.   GRE Score  TOEFL Score  University Rating         SOP  \\\n",
       "count  500.000000  500.000000   500.000000         500.000000  500.000000   \n",
       "mean   250.500000  316.472000   107.192000           3.114000    3.374000   \n",
       "std    144.481833   11.295148     6.081868           1.143512    0.991004   \n",
       "min      1.000000  290.000000    92.000000           1.000000    1.000000   \n",
       "25%    125.750000  308.000000   103.000000           2.000000    2.500000   \n",
       "50%    250.500000  317.000000   107.000000           3.000000    3.500000   \n",
       "75%    375.250000  325.000000   112.000000           4.000000    4.000000   \n",
       "max    500.000000  340.000000   120.000000           5.000000    5.000000   \n",
       "\n",
       "            LOR         CGPA    Research  Chance of Admit   \n",
       "count  500.00000  500.000000  500.000000         500.00000  \n",
       "mean     3.48400    8.576440    0.560000           0.72174  \n",
       "std      0.92545    0.604813    0.496884           0.14114  \n",
       "min      1.00000    6.800000    0.000000           0.34000  \n",
       "25%      3.00000    8.127500    0.000000           0.63000  \n",
       "50%      3.50000    8.560000    1.000000           0.72000  \n",
       "75%      4.00000    9.040000    1.000000           0.82000  \n",
       "max      5.00000    9.920000    1.000000           0.97000  "
      ],
      "text/html": "<div>\n<style scoped>\n    .dataframe tbody tr th:only-of-type {\n        vertical-align: middle;\n    }\n\n    .dataframe tbody tr th {\n        vertical-align: top;\n    }\n\n    .dataframe thead th {\n        text-align: right;\n    }\n</style>\n<table border=\"1\" class=\"dataframe\">\n  <thead>\n    <tr style=\"text-align: right;\">\n      <th></th>\n      <th>Serial No.</th>\n      <th>GRE Score</th>\n      <th>TOEFL Score</th>\n      <th>University Rating</th>\n      <th>SOP</th>\n      <th>LOR</th>\n      <th>CGPA</th>\n      <th>Research</th>\n      <th>Chance of Admit</th>\n    </tr>\n  </thead>\n  <tbody>\n    <tr>\n      <th>count</th>\n      <td>500.000000</td>\n      <td>500.000000</td>\n      <td>500.000000</td>\n      <td>500.000000</td>\n      <td>500.000000</td>\n      <td>500.00000</td>\n      <td>500.000000</td>\n      <td>500.000000</td>\n      <td>500.00000</td>\n    </tr>\n    <tr>\n      <th>mean</th>\n      <td>250.500000</td>\n      <td>316.472000</td>\n      <td>107.192000</td>\n      <td>3.114000</td>\n      <td>3.374000</td>\n      <td>3.48400</td>\n      <td>8.576440</td>\n      <td>0.560000</td>\n      <td>0.72174</td>\n    </tr>\n    <tr>\n      <th>std</th>\n      <td>144.481833</td>\n      <td>11.295148</td>\n      <td>6.081868</td>\n      <td>1.143512</td>\n      <td>0.991004</td>\n      <td>0.92545</td>\n      <td>0.604813</td>\n      <td>0.496884</td>\n      <td>0.14114</td>\n    </tr>\n    <tr>\n      <th>min</th>\n      <td>1.000000</td>\n      <td>290.000000</td>\n      <td>92.000000</td>\n      <td>1.000000</td>\n      <td>1.000000</td>\n      <td>1.00000</td>\n      <td>6.800000</td>\n      <td>0.000000</td>\n      <td>0.34000</td>\n    </tr>\n    <tr>\n      <th>25%</th>\n      <td>125.750000</td>\n      <td>308.000000</td>\n      <td>103.000000</td>\n      <td>2.000000</td>\n      <td>2.500000</td>\n      <td>3.00000</td>\n      <td>8.127500</td>\n      <td>0.000000</td>\n      <td>0.63000</td>\n    </tr>\n    <tr>\n      <th>50%</th>\n      <td>250.500000</td>\n      <td>317.000000</td>\n      <td>107.000000</td>\n      <td>3.000000</td>\n      <td>3.500000</td>\n      <td>3.50000</td>\n      <td>8.560000</td>\n      <td>1.000000</td>\n      <td>0.72000</td>\n    </tr>\n    <tr>\n      <th>75%</th>\n      <td>375.250000</td>\n      <td>325.000000</td>\n      <td>112.000000</td>\n      <td>4.000000</td>\n      <td>4.000000</td>\n      <td>4.00000</td>\n      <td>9.040000</td>\n      <td>1.000000</td>\n      <td>0.82000</td>\n    </tr>\n    <tr>\n      <th>max</th>\n      <td>500.000000</td>\n      <td>340.000000</td>\n      <td>120.000000</td>\n      <td>5.000000</td>\n      <td>5.000000</td>\n      <td>5.00000</td>\n      <td>9.920000</td>\n      <td>1.000000</td>\n      <td>0.97000</td>\n    </tr>\n  </tbody>\n</table>\n</div>"
     },
     "metadata": {},
     "execution_count": 24
    }
   ],
   "source": [
    "df = pd.read_csv('admissions_data.csv')\n",
    "df.describe()"
   ]
  },
  {
   "cell_type": "code",
   "execution_count": 25,
   "metadata": {},
   "outputs": [
    {
     "output_type": "execute_result",
     "data": {
      "text/plain": [
       "   Serial No.  GRE Score  TOEFL Score  University Rating  SOP  LOR   CGPA  \\\n",
       "0           1        337          118                  4  4.5   4.5  9.65   \n",
       "1           2        324          107                  4  4.0   4.5  8.87   \n",
       "2           3        316          104                  3  3.0   3.5  8.00   \n",
       "3           4        322          110                  3  3.5   2.5  8.67   \n",
       "4           5        314          103                  2  2.0   3.0  8.21   \n",
       "\n",
       "   Research  Chance of Admit   \n",
       "0         1              0.92  \n",
       "1         1              0.76  \n",
       "2         1              0.72  \n",
       "3         1              0.80  \n",
       "4         0              0.65  "
      ],
      "text/html": "<div>\n<style scoped>\n    .dataframe tbody tr th:only-of-type {\n        vertical-align: middle;\n    }\n\n    .dataframe tbody tr th {\n        vertical-align: top;\n    }\n\n    .dataframe thead th {\n        text-align: right;\n    }\n</style>\n<table border=\"1\" class=\"dataframe\">\n  <thead>\n    <tr style=\"text-align: right;\">\n      <th></th>\n      <th>Serial No.</th>\n      <th>GRE Score</th>\n      <th>TOEFL Score</th>\n      <th>University Rating</th>\n      <th>SOP</th>\n      <th>LOR</th>\n      <th>CGPA</th>\n      <th>Research</th>\n      <th>Chance of Admit</th>\n    </tr>\n  </thead>\n  <tbody>\n    <tr>\n      <th>0</th>\n      <td>1</td>\n      <td>337</td>\n      <td>118</td>\n      <td>4</td>\n      <td>4.5</td>\n      <td>4.5</td>\n      <td>9.65</td>\n      <td>1</td>\n      <td>0.92</td>\n    </tr>\n    <tr>\n      <th>1</th>\n      <td>2</td>\n      <td>324</td>\n      <td>107</td>\n      <td>4</td>\n      <td>4.0</td>\n      <td>4.5</td>\n      <td>8.87</td>\n      <td>1</td>\n      <td>0.76</td>\n    </tr>\n    <tr>\n      <th>2</th>\n      <td>3</td>\n      <td>316</td>\n      <td>104</td>\n      <td>3</td>\n      <td>3.0</td>\n      <td>3.5</td>\n      <td>8.00</td>\n      <td>1</td>\n      <td>0.72</td>\n    </tr>\n    <tr>\n      <th>3</th>\n      <td>4</td>\n      <td>322</td>\n      <td>110</td>\n      <td>3</td>\n      <td>3.5</td>\n      <td>2.5</td>\n      <td>8.67</td>\n      <td>1</td>\n      <td>0.80</td>\n    </tr>\n    <tr>\n      <th>4</th>\n      <td>5</td>\n      <td>314</td>\n      <td>103</td>\n      <td>2</td>\n      <td>2.0</td>\n      <td>3.0</td>\n      <td>8.21</td>\n      <td>0</td>\n      <td>0.65</td>\n    </tr>\n  </tbody>\n</table>\n</div>"
     },
     "metadata": {},
     "execution_count": 25
    }
   ],
   "source": [
    "df.head()"
   ]
  },
  {
   "source": [
    "From looking at these we can drop the \"Serial No.\" column, since this isn't a very descriptive column :) "
   ],
   "cell_type": "markdown",
   "metadata": {}
  },
  {
   "cell_type": "code",
   "execution_count": 26,
   "metadata": {},
   "outputs": [],
   "source": [
    "df = df.drop(['Serial No.'], axis=1)"
   ]
  },
  {
   "source": [
    "Now we need to split the data into two parts, namely into features and labels. The features are all the attributes which describes the student and are attributes which affects their chance of admittance. The label is the last column, namely \"Chance of admittance\""
   ],
   "cell_type": "markdown",
   "metadata": {}
  },
  {
   "cell_type": "code",
   "execution_count": 27,
   "metadata": {},
   "outputs": [],
   "source": [
    "features = df.iloc[:,0:-1]\n",
    "labels = df.iloc[:,-1]"
   ]
  },
  {
   "source": [
    "## Splitting and standardizing the data\n",
    "\n",
    "We need to split the data into both training and test set and also there is a need to standardize some of the columns"
   ],
   "cell_type": "markdown",
   "metadata": {}
  },
  {
   "source": [
    "a) Splitting the data\n",
    "\n",
    "We will be using a test size of 33% and a random state of 42."
   ],
   "cell_type": "markdown",
   "metadata": {}
  },
  {
   "cell_type": "code",
   "execution_count": 28,
   "metadata": {},
   "outputs": [],
   "source": [
    "features_training_set, features_test_set, labels_training_set, labels_test_set = train_test_split(features,labels, test_size=0.25, random_state=42)"
   ]
  },
  {
   "source": [
    "b) Standardizing the data\n",
    "\n"
   ],
   "cell_type": "markdown",
   "metadata": {}
  },
  {
   "cell_type": "code",
   "execution_count": 29,
   "metadata": {},
   "outputs": [],
   "source": [
    "sc = StandardScaler()\n",
    "features_train_scale = sc.fit_transform(features_training_set)\n",
    "features_test_scale = sc.transform(features_test_set)\n"
   ]
  },
  {
   "source": [
    "## Creating the deep learning model\n",
    "\n",
    "Here I have decided to implement a function which creates the deep learning model aka. the neural network we are going to use for this modelling task "
   ],
   "cell_type": "markdown",
   "metadata": {}
  },
  {
   "cell_type": "code",
   "execution_count": 30,
   "metadata": {},
   "outputs": [],
   "source": [
    "def create_model(features):\n",
    "    model = Sequential(name=\"NeuralNet\")\n",
    "\n",
    "    # Adding the input layer to model\n",
    "    num_features = features.shape[1] \n",
    "    input = layers.InputLayer(input_shape=num_features,)\n",
    "    model.add(input) \n",
    "\n",
    "    # Adding the hidden layers to the model \n",
    "    model.add(Dense(16, activation='relu'))\n",
    "    model.add(layers.Dropout(0.1))\n",
    "    model.add(Dense(8, activation='relu'))\n",
    "    model.add(layers.Dropout(0.2))\n",
    "\n",
    "    # Adding the output layer to model \n",
    "    model.add(Dense(1))\n",
    "\n",
    "    # Adding an optimizer to the model \n",
    "    opt = Adam(learning_rate=0.005)\n",
    "    model.compile(loss ='mse', metrics =['mae'], optimizer = opt)\n",
    "\n",
    "    print(model.summary())\n",
    "    return model\n"
   ]
  },
  {
   "source": [
    "The function takes in a parameter features, which is used to decied the dimension of the input layer. \n",
    "\n",
    "The hidden layers will use the ReLU for its activation of the nodes. While the output layer will consist of one node. \n",
    "\n",
    "For the optimizer we will use Adam with a learning rate of 0.005. More over the loss function we will be using is the mean-squared error (MSE), because it's a regression model, and we will use mean-average error (MAE)as the metric. \n",
    "\n",
    "\n"
   ],
   "cell_type": "markdown",
   "metadata": {}
  },
  {
   "cell_type": "code",
   "execution_count": 31,
   "metadata": {},
   "outputs": [
    {
     "output_type": "stream",
     "name": "stdout",
     "text": [
      "Model: \"NeuralNet\"\n_________________________________________________________________\nLayer (type)                 Output Shape              Param #   \n=================================================================\ndense_3 (Dense)              (None, 16)                128       \n_________________________________________________________________\ndropout (Dropout)            (None, 16)                0         \n_________________________________________________________________\ndense_4 (Dense)              (None, 8)                 136       \n_________________________________________________________________\ndropout_1 (Dropout)          (None, 8)                 0         \n_________________________________________________________________\ndense_5 (Dense)              (None, 1)                 9         \n=================================================================\nTotal params: 273\nTrainable params: 273\nNon-trainable params: 0\n_________________________________________________________________\nNone\n"
     ]
    }
   ],
   "source": [
    "model = create_model(features_training_set)"
   ]
  },
  {
   "source": [
    "Applying early stopping for efficiency"
   ],
   "cell_type": "markdown",
   "metadata": {}
  },
  {
   "cell_type": "code",
   "execution_count": 32,
   "metadata": {},
   "outputs": [],
   "source": [
    "stop = EarlyStopping(monitor = 'val_loss',mode='min',patience = 20)"
   ]
  },
  {
   "source": [
    "## Training the model\n",
    "\n",
    "Now we need to train and fit the model using our features and labels. When training the model we mean to adjust the weights according to the data rows feeded to the network. Here we must choose hyperparametres such as epochs, batch_size and verbose. "
   ],
   "cell_type": "markdown",
   "metadata": {}
  },
  {
   "cell_type": "code",
   "execution_count": 33,
   "metadata": {},
   "outputs": [
    {
     "output_type": "stream",
     "name": "stdout",
     "text": [
      "Epoch 1/200\n",
      "262/262 [==============================] - 1s 1ms/step - loss: 83.5129 - mae: 4.5866 - val_loss: 0.6761 - val_mae: 0.8097\n",
      "Epoch 2/200\n",
      "262/262 [==============================] - 0s 2ms/step - loss: 4.6650 - mae: 1.1181 - val_loss: 0.5166 - val_mae: 0.7044\n",
      "Epoch 3/200\n",
      "262/262 [==============================] - 0s 2ms/step - loss: 2.2582 - mae: 0.8232 - val_loss: 0.3466 - val_mae: 0.5711\n",
      "Epoch 4/200\n",
      "262/262 [==============================] - 0s 1ms/step - loss: 2.1489 - mae: 0.6703 - val_loss: 0.2078 - val_mae: 0.4329\n",
      "Epoch 5/200\n",
      "262/262 [==============================] - 0s 1ms/step - loss: 0.6266 - mae: 0.4345 - val_loss: 0.1281 - val_mae: 0.3300\n",
      "Epoch 6/200\n",
      "262/262 [==============================] - 0s 2ms/step - loss: 0.5339 - mae: 0.3521 - val_loss: 0.0756 - val_mae: 0.2434\n",
      "Epoch 7/200\n",
      "262/262 [==============================] - 0s 1ms/step - loss: 0.1523 - mae: 0.2362 - val_loss: 0.0441 - val_mae: 0.1801\n",
      "Epoch 8/200\n",
      "262/262 [==============================] - 0s 1ms/step - loss: 0.0530 - mae: 0.1701 - val_loss: 0.0329 - val_mae: 0.1523\n",
      "Epoch 9/200\n",
      "262/262 [==============================] - 0s 1ms/step - loss: 0.3469 - mae: 0.1992 - val_loss: 0.0260 - val_mae: 0.1319\n",
      "Epoch 10/200\n",
      "262/262 [==============================] - 0s 977us/step - loss: 0.1936 - mae: 0.1622 - val_loss: 0.0230 - val_mae: 0.1231\n",
      "Epoch 11/200\n",
      "262/262 [==============================] - 0s 2ms/step - loss: 0.1508 - mae: 0.1559 - val_loss: 0.0207 - val_mae: 0.1165\n",
      "Epoch 12/200\n",
      "262/262 [==============================] - 0s 2ms/step - loss: 0.0619 - mae: 0.1267 - val_loss: 0.0205 - val_mae: 0.1162\n",
      "Epoch 13/200\n",
      "262/262 [==============================] - 0s 1ms/step - loss: 0.0276 - mae: 0.1216 - val_loss: 0.0208 - val_mae: 0.1166\n",
      "Epoch 14/200\n",
      "262/262 [==============================] - 0s 1ms/step - loss: 0.0202 - mae: 0.1162 - val_loss: 0.0208 - val_mae: 0.1167\n",
      "Epoch 15/200\n",
      "262/262 [==============================] - 0s 1ms/step - loss: 0.2458 - mae: 0.1815 - val_loss: 0.0209 - val_mae: 0.1169\n",
      "Epoch 16/200\n",
      "262/262 [==============================] - 0s 931us/step - loss: 0.1204 - mae: 0.1499 - val_loss: 0.0209 - val_mae: 0.1168\n",
      "Epoch 17/200\n",
      "262/262 [==============================] - 0s 983us/step - loss: 0.1297 - mae: 0.1419 - val_loss: 0.0215 - val_mae: 0.1182\n",
      "Epoch 18/200\n",
      "262/262 [==============================] - 0s 1ms/step - loss: 0.0221 - mae: 0.1198 - val_loss: 0.0207 - val_mae: 0.1164\n",
      "Epoch 19/200\n",
      "262/262 [==============================] - 0s 965us/step - loss: 0.0202 - mae: 0.1157 - val_loss: 0.0208 - val_mae: 0.1166\n",
      "Epoch 20/200\n",
      "262/262 [==============================] - 0s 1ms/step - loss: 0.0199 - mae: 0.1144 - val_loss: 0.0212 - val_mae: 0.1176\n",
      "Epoch 21/200\n",
      "262/262 [==============================] - 0s 964us/step - loss: 0.0201 - mae: 0.1157 - val_loss: 0.0207 - val_mae: 0.1164\n",
      "Epoch 22/200\n",
      "262/262 [==============================] - 0s 976us/step - loss: 0.0250 - mae: 0.1196 - val_loss: 0.0207 - val_mae: 0.1165\n",
      "Epoch 23/200\n",
      "262/262 [==============================] - 0s 966us/step - loss: 0.0286 - mae: 0.1246 - val_loss: 0.0215 - val_mae: 0.1182\n",
      "Epoch 24/200\n",
      "262/262 [==============================] - 0s 955us/step - loss: 0.0243 - mae: 0.1186 - val_loss: 0.0204 - val_mae: 0.1161\n",
      "Epoch 25/200\n",
      "262/262 [==============================] - 0s 985us/step - loss: 0.0206 - mae: 0.1159 - val_loss: 0.0210 - val_mae: 0.1170\n",
      "Epoch 26/200\n",
      "262/262 [==============================] - 0s 1ms/step - loss: 0.5422 - mae: 0.1612 - val_loss: 0.0268 - val_mae: 0.1312\n",
      "Epoch 27/200\n",
      "262/262 [==============================] - 0s 954us/step - loss: 0.1278 - mae: 0.1499 - val_loss: 0.0204 - val_mae: 0.1161\n",
      "Epoch 28/200\n",
      "262/262 [==============================] - 0s 920us/step - loss: 0.0454 - mae: 0.1368 - val_loss: 0.0212 - val_mae: 0.1175\n",
      "Epoch 29/200\n",
      "262/262 [==============================] - 0s 917us/step - loss: 0.0237 - mae: 0.1215 - val_loss: 0.0208 - val_mae: 0.1166\n",
      "Epoch 30/200\n",
      "262/262 [==============================] - 0s 922us/step - loss: 0.0227 - mae: 0.1202 - val_loss: 0.0212 - val_mae: 0.1176\n",
      "Epoch 31/200\n",
      "262/262 [==============================] - 0s 997us/step - loss: 0.0223 - mae: 0.1189 - val_loss: 0.0209 - val_mae: 0.1169\n",
      "Epoch 32/200\n",
      "262/262 [==============================] - 0s 970us/step - loss: 0.0206 - mae: 0.1160 - val_loss: 0.0207 - val_mae: 0.1164\n",
      "Epoch 33/200\n",
      "262/262 [==============================] - 0s 961us/step - loss: 0.0216 - mae: 0.1185 - val_loss: 0.0214 - val_mae: 0.1180\n",
      "Epoch 34/200\n",
      "262/262 [==============================] - 0s 960us/step - loss: 0.0206 - mae: 0.1171 - val_loss: 0.0206 - val_mae: 0.1163\n",
      "Epoch 35/200\n",
      "262/262 [==============================] - 0s 995us/step - loss: 0.0216 - mae: 0.1164 - val_loss: 0.0211 - val_mae: 0.1173\n",
      "Epoch 36/200\n",
      "262/262 [==============================] - 0s 955us/step - loss: 0.0226 - mae: 0.1211 - val_loss: 0.0206 - val_mae: 0.1163\n",
      "Epoch 37/200\n",
      "262/262 [==============================] - 0s 1ms/step - loss: 0.0204 - mae: 0.1162 - val_loss: 0.0205 - val_mae: 0.1162\n",
      "Epoch 38/200\n",
      "262/262 [==============================] - 0s 1ms/step - loss: 0.0212 - mae: 0.1181 - val_loss: 0.0206 - val_mae: 0.1163\n",
      "Epoch 39/200\n",
      "262/262 [==============================] - 0s 1ms/step - loss: 0.0201 - mae: 0.1160 - val_loss: 0.0209 - val_mae: 0.1169\n",
      "Epoch 40/200\n",
      "262/262 [==============================] - 0s 955us/step - loss: 0.0201 - mae: 0.1146 - val_loss: 0.0219 - val_mae: 0.1196\n",
      "Epoch 41/200\n",
      "262/262 [==============================] - 0s 933us/step - loss: 0.0219 - mae: 0.1189 - val_loss: 0.0206 - val_mae: 0.1163\n",
      "Epoch 42/200\n",
      "262/262 [==============================] - 0s 1ms/step - loss: 0.0212 - mae: 0.1170 - val_loss: 0.0218 - val_mae: 0.1190\n",
      "Epoch 43/200\n",
      "262/262 [==============================] - 0s 1ms/step - loss: 0.0202 - mae: 0.1161 - val_loss: 0.0210 - val_mae: 0.1170\n",
      "Epoch 44/200\n",
      "262/262 [==============================] - 0s 979us/step - loss: 0.0200 - mae: 0.1145 - val_loss: 0.0207 - val_mae: 0.1166\n",
      "Epoch 45/200\n",
      "262/262 [==============================] - 0s 945us/step - loss: 0.0218 - mae: 0.1183 - val_loss: 0.0221 - val_mae: 0.1201\n",
      "Epoch 46/200\n",
      "262/262 [==============================] - 0s 936us/step - loss: 0.0201 - mae: 0.1152 - val_loss: 0.0206 - val_mae: 0.1163\n",
      "Epoch 47/200\n",
      "262/262 [==============================] - 0s 962us/step - loss: 0.0201 - mae: 0.1156 - val_loss: 0.0212 - val_mae: 0.1174\n"
     ]
    }
   ],
   "source": [
    "history = model.fit(features_training_set, labels_training_set, epochs = 200, batch_size = 1, verbose = 1, validation_split=.3, callbacks=[stop])"
   ]
  },
  {
   "source": [
    "Above the training stops at 64/200 due to the early stopping criterion"
   ],
   "cell_type": "markdown",
   "metadata": {}
  },
  {
   "source": [
    "## Evaluating the model"
   ],
   "cell_type": "markdown",
   "metadata": {}
  },
  {
   "cell_type": "code",
   "execution_count": 34,
   "metadata": {},
   "outputs": [
    {
     "output_type": "stream",
     "name": "stdout",
     "text": [
      "The value of mean-average error is: 0.1134047880768776\nThis means that the model is 11.34047880768776% off\n"
     ]
    }
   ],
   "source": [
    "val_mse, val_mae = model.evaluate(features_train_scale, labels_training_set, verbose = 0)\n",
    "\n",
    "print(f\"The value of mean-average error is: {val_mae}\\nThis means that the model is {val_mae*100}% off\")"
   ]
  },
  {
   "cell_type": "code",
   "execution_count": 36,
   "metadata": {},
   "outputs": [
    {
     "output_type": "stream",
     "name": "stdout",
     "text": [
      "The r2 score is 0.031870408484017454\nThis means the deep learning model has correct predictions 3.1870408484017454% of the time\n"
     ]
    }
   ],
   "source": [
    "y_predict = model.predict(features_test_scale, verbose=0)\n",
    "r2 = r2_score(labels_test_set,y_predict)\n",
    "print(f\"The r2 score is {r2}\\nThis means the deep learning model has correct predictions {r2*100}% of the time\")"
   ]
  },
  {
   "source": [
    "# Plots \n",
    "\n",
    "Here I will be trying to plot the deep learning model loss per epoch as well as the mean-average error per epoch for both training and validation data. "
   ],
   "cell_type": "markdown",
   "metadata": {}
  },
  {
   "cell_type": "code",
   "execution_count": 37,
   "metadata": {},
   "outputs": [
    {
     "output_type": "display_data",
     "data": {
      "text/plain": "<Figure size 936x720 with 2 Axes>",
      "image/svg+xml": "<?xml version=\"1.0\" encoding=\"utf-8\" standalone=\"no\"?>\n<!DOCTYPE svg PUBLIC \"-//W3C//DTD SVG 1.1//EN\"\n  \"http://www.w3.org/Graphics/SVG/1.1/DTD/svg11.dtd\">\n<svg height=\"603.474375pt\" version=\"1.1\" viewBox=\"0 0 773.203125 603.474375\" width=\"773.203125pt\" xmlns=\"http://www.w3.org/2000/svg\" xmlns:xlink=\"http://www.w3.org/1999/xlink\">\n <metadata>\n  <rdf:RDF xmlns:cc=\"http://creativecommons.org/ns#\" xmlns:dc=\"http://purl.org/dc/elements/1.1/\" xmlns:rdf=\"http://www.w3.org/1999/02/22-rdf-syntax-ns#\">\n   <cc:Work>\n    <dc:type rdf:resource=\"http://purl.org/dc/dcmitype/StillImage\"/>\n    <dc:date>2021-06-23T13:09:20.453447</dc:date>\n    <dc:format>image/svg+xml</dc:format>\n    <dc:creator>\n     <cc:Agent>\n      <dc:title>Matplotlib v3.4.2, https://matplotlib.org/</dc:title>\n     </cc:Agent>\n    </dc:creator>\n   </cc:Work>\n  </rdf:RDF>\n </metadata>\n <defs>\n  <style type=\"text/css\">*{stroke-linecap:butt;stroke-linejoin:round;}</style>\n </defs>\n <g id=\"figure_1\">\n  <g id=\"patch_1\">\n   <path d=\"M 0 603.474375 \nL 773.203125 603.474375 \nL 773.203125 0 \nL 0 0 \nz\n\" style=\"fill:none;\"/>\n  </g>\n  <g id=\"axes_1\">\n   <g id=\"patch_2\">\n    <path d=\"M 40.603125 269.409034 \nL 766.003125 269.409034 \nL 766.003125 22.318125 \nL 40.603125 22.318125 \nz\n\" style=\"fill:#ffffff;\"/>\n   </g>\n   <g id=\"matplotlib.axis_1\">\n    <g id=\"xtick_1\">\n     <g id=\"line2d_1\">\n      <defs>\n       <path d=\"M 0 0 \nL 0 3.5 \n\" id=\"m6e865df669\" style=\"stroke:#000000;stroke-width:0.8;\"/>\n      </defs>\n      <g>\n       <use style=\"stroke:#000000;stroke-width:0.8;\" x=\"73.575852\" xlink:href=\"#m6e865df669\" y=\"269.409034\"/>\n      </g>\n     </g>\n     <g id=\"text_1\">\n      <!-- 0 -->\n      <g transform=\"translate(70.394602 284.007472)scale(0.1 -0.1)\">\n       <defs>\n        <path d=\"M 2034 4250 \nQ 1547 4250 1301 3770 \nQ 1056 3291 1056 2328 \nQ 1056 1369 1301 889 \nQ 1547 409 2034 409 \nQ 2525 409 2770 889 \nQ 3016 1369 3016 2328 \nQ 3016 3291 2770 3770 \nQ 2525 4250 2034 4250 \nz\nM 2034 4750 \nQ 2819 4750 3233 4129 \nQ 3647 3509 3647 2328 \nQ 3647 1150 3233 529 \nQ 2819 -91 2034 -91 \nQ 1250 -91 836 529 \nQ 422 1150 422 2328 \nQ 422 3509 836 4129 \nQ 1250 4750 2034 4750 \nz\n\" id=\"DejaVuSans-30\" transform=\"scale(0.015625)\"/>\n       </defs>\n       <use xlink:href=\"#DejaVuSans-30\"/>\n      </g>\n     </g>\n    </g>\n    <g id=\"xtick_2\">\n     <g id=\"line2d_2\">\n      <g>\n       <use style=\"stroke:#000000;stroke-width:0.8;\" x=\"216.935536\" xlink:href=\"#m6e865df669\" y=\"269.409034\"/>\n      </g>\n     </g>\n     <g id=\"text_2\">\n      <!-- 10 -->\n      <g transform=\"translate(210.573036 284.007472)scale(0.1 -0.1)\">\n       <defs>\n        <path d=\"M 794 531 \nL 1825 531 \nL 1825 4091 \nL 703 3866 \nL 703 4441 \nL 1819 4666 \nL 2450 4666 \nL 2450 531 \nL 3481 531 \nL 3481 0 \nL 794 0 \nL 794 531 \nz\n\" id=\"DejaVuSans-31\" transform=\"scale(0.015625)\"/>\n       </defs>\n       <use xlink:href=\"#DejaVuSans-31\"/>\n       <use x=\"63.623047\" xlink:href=\"#DejaVuSans-30\"/>\n      </g>\n     </g>\n    </g>\n    <g id=\"xtick_3\">\n     <g id=\"line2d_3\">\n      <g>\n       <use style=\"stroke:#000000;stroke-width:0.8;\" x=\"360.29522\" xlink:href=\"#m6e865df669\" y=\"269.409034\"/>\n      </g>\n     </g>\n     <g id=\"text_3\">\n      <!-- 20 -->\n      <g transform=\"translate(353.93272 284.007472)scale(0.1 -0.1)\">\n       <defs>\n        <path d=\"M 1228 531 \nL 3431 531 \nL 3431 0 \nL 469 0 \nL 469 531 \nQ 828 903 1448 1529 \nQ 2069 2156 2228 2338 \nQ 2531 2678 2651 2914 \nQ 2772 3150 2772 3378 \nQ 2772 3750 2511 3984 \nQ 2250 4219 1831 4219 \nQ 1534 4219 1204 4116 \nQ 875 4013 500 3803 \nL 500 4441 \nQ 881 4594 1212 4672 \nQ 1544 4750 1819 4750 \nQ 2544 4750 2975 4387 \nQ 3406 4025 3406 3419 \nQ 3406 3131 3298 2873 \nQ 3191 2616 2906 2266 \nQ 2828 2175 2409 1742 \nQ 1991 1309 1228 531 \nz\n\" id=\"DejaVuSans-32\" transform=\"scale(0.015625)\"/>\n       </defs>\n       <use xlink:href=\"#DejaVuSans-32\"/>\n       <use x=\"63.623047\" xlink:href=\"#DejaVuSans-30\"/>\n      </g>\n     </g>\n    </g>\n    <g id=\"xtick_4\">\n     <g id=\"line2d_4\">\n      <g>\n       <use style=\"stroke:#000000;stroke-width:0.8;\" x=\"503.654904\" xlink:href=\"#m6e865df669\" y=\"269.409034\"/>\n      </g>\n     </g>\n     <g id=\"text_4\">\n      <!-- 30 -->\n      <g transform=\"translate(497.292404 284.007472)scale(0.1 -0.1)\">\n       <defs>\n        <path d=\"M 2597 2516 \nQ 3050 2419 3304 2112 \nQ 3559 1806 3559 1356 \nQ 3559 666 3084 287 \nQ 2609 -91 1734 -91 \nQ 1441 -91 1130 -33 \nQ 819 25 488 141 \nL 488 750 \nQ 750 597 1062 519 \nQ 1375 441 1716 441 \nQ 2309 441 2620 675 \nQ 2931 909 2931 1356 \nQ 2931 1769 2642 2001 \nQ 2353 2234 1838 2234 \nL 1294 2234 \nL 1294 2753 \nL 1863 2753 \nQ 2328 2753 2575 2939 \nQ 2822 3125 2822 3475 \nQ 2822 3834 2567 4026 \nQ 2313 4219 1838 4219 \nQ 1578 4219 1281 4162 \nQ 984 4106 628 3988 \nL 628 4550 \nQ 988 4650 1302 4700 \nQ 1616 4750 1894 4750 \nQ 2613 4750 3031 4423 \nQ 3450 4097 3450 3541 \nQ 3450 3153 3228 2886 \nQ 3006 2619 2597 2516 \nz\n\" id=\"DejaVuSans-33\" transform=\"scale(0.015625)\"/>\n       </defs>\n       <use xlink:href=\"#DejaVuSans-33\"/>\n       <use x=\"63.623047\" xlink:href=\"#DejaVuSans-30\"/>\n      </g>\n     </g>\n    </g>\n    <g id=\"xtick_5\">\n     <g id=\"line2d_5\">\n      <g>\n       <use style=\"stroke:#000000;stroke-width:0.8;\" x=\"647.014587\" xlink:href=\"#m6e865df669\" y=\"269.409034\"/>\n      </g>\n     </g>\n     <g id=\"text_5\">\n      <!-- 40 -->\n      <g transform=\"translate(640.652087 284.007472)scale(0.1 -0.1)\">\n       <defs>\n        <path d=\"M 2419 4116 \nL 825 1625 \nL 2419 1625 \nL 2419 4116 \nz\nM 2253 4666 \nL 3047 4666 \nL 3047 1625 \nL 3713 1625 \nL 3713 1100 \nL 3047 1100 \nL 3047 0 \nL 2419 0 \nL 2419 1100 \nL 313 1100 \nL 313 1709 \nL 2253 4666 \nz\n\" id=\"DejaVuSans-34\" transform=\"scale(0.015625)\"/>\n       </defs>\n       <use xlink:href=\"#DejaVuSans-34\"/>\n       <use x=\"63.623047\" xlink:href=\"#DejaVuSans-30\"/>\n      </g>\n     </g>\n    </g>\n    <g id=\"text_6\">\n     <!-- Epoch -->\n     <g transform=\"translate(387.992188 297.685597)scale(0.1 -0.1)\">\n      <defs>\n       <path d=\"M 628 4666 \nL 3578 4666 \nL 3578 4134 \nL 1259 4134 \nL 1259 2753 \nL 3481 2753 \nL 3481 2222 \nL 1259 2222 \nL 1259 531 \nL 3634 531 \nL 3634 0 \nL 628 0 \nL 628 4666 \nz\n\" id=\"DejaVuSans-45\" transform=\"scale(0.015625)\"/>\n       <path d=\"M 1159 525 \nL 1159 -1331 \nL 581 -1331 \nL 581 3500 \nL 1159 3500 \nL 1159 2969 \nQ 1341 3281 1617 3432 \nQ 1894 3584 2278 3584 \nQ 2916 3584 3314 3078 \nQ 3713 2572 3713 1747 \nQ 3713 922 3314 415 \nQ 2916 -91 2278 -91 \nQ 1894 -91 1617 61 \nQ 1341 213 1159 525 \nz\nM 3116 1747 \nQ 3116 2381 2855 2742 \nQ 2594 3103 2138 3103 \nQ 1681 3103 1420 2742 \nQ 1159 2381 1159 1747 \nQ 1159 1113 1420 752 \nQ 1681 391 2138 391 \nQ 2594 391 2855 752 \nQ 3116 1113 3116 1747 \nz\n\" id=\"DejaVuSans-70\" transform=\"scale(0.015625)\"/>\n       <path d=\"M 1959 3097 \nQ 1497 3097 1228 2736 \nQ 959 2375 959 1747 \nQ 959 1119 1226 758 \nQ 1494 397 1959 397 \nQ 2419 397 2687 759 \nQ 2956 1122 2956 1747 \nQ 2956 2369 2687 2733 \nQ 2419 3097 1959 3097 \nz\nM 1959 3584 \nQ 2709 3584 3137 3096 \nQ 3566 2609 3566 1747 \nQ 3566 888 3137 398 \nQ 2709 -91 1959 -91 \nQ 1206 -91 779 398 \nQ 353 888 353 1747 \nQ 353 2609 779 3096 \nQ 1206 3584 1959 3584 \nz\n\" id=\"DejaVuSans-6f\" transform=\"scale(0.015625)\"/>\n       <path d=\"M 3122 3366 \nL 3122 2828 \nQ 2878 2963 2633 3030 \nQ 2388 3097 2138 3097 \nQ 1578 3097 1268 2742 \nQ 959 2388 959 1747 \nQ 959 1106 1268 751 \nQ 1578 397 2138 397 \nQ 2388 397 2633 464 \nQ 2878 531 3122 666 \nL 3122 134 \nQ 2881 22 2623 -34 \nQ 2366 -91 2075 -91 \nQ 1284 -91 818 406 \nQ 353 903 353 1747 \nQ 353 2603 823 3093 \nQ 1294 3584 2113 3584 \nQ 2378 3584 2631 3529 \nQ 2884 3475 3122 3366 \nz\n\" id=\"DejaVuSans-63\" transform=\"scale(0.015625)\"/>\n       <path d=\"M 3513 2113 \nL 3513 0 \nL 2938 0 \nL 2938 2094 \nQ 2938 2591 2744 2837 \nQ 2550 3084 2163 3084 \nQ 1697 3084 1428 2787 \nQ 1159 2491 1159 1978 \nL 1159 0 \nL 581 0 \nL 581 4863 \nL 1159 4863 \nL 1159 2956 \nQ 1366 3272 1645 3428 \nQ 1925 3584 2291 3584 \nQ 2894 3584 3203 3211 \nQ 3513 2838 3513 2113 \nz\n\" id=\"DejaVuSans-68\" transform=\"scale(0.015625)\"/>\n      </defs>\n      <use xlink:href=\"#DejaVuSans-45\"/>\n      <use x=\"63.183594\" xlink:href=\"#DejaVuSans-70\"/>\n      <use x=\"126.660156\" xlink:href=\"#DejaVuSans-6f\"/>\n      <use x=\"187.841797\" xlink:href=\"#DejaVuSans-63\"/>\n      <use x=\"242.822266\" xlink:href=\"#DejaVuSans-68\"/>\n     </g>\n    </g>\n   </g>\n   <g id=\"matplotlib.axis_2\">\n    <g id=\"ytick_1\">\n     <g id=\"line2d_6\">\n      <defs>\n       <path d=\"M 0 0 \nL -3.5 0 \n\" id=\"m7daa60dbd3\" style=\"stroke:#000000;stroke-width:0.8;\"/>\n      </defs>\n      <g>\n       <use style=\"stroke:#000000;stroke-width:0.8;\" x=\"40.603125\" xlink:href=\"#m7daa60dbd3\" y=\"263.923691\"/>\n      </g>\n     </g>\n     <g id=\"text_7\">\n      <!-- 0 -->\n      <g transform=\"translate(27.240625 267.72291)scale(0.1 -0.1)\">\n       <use xlink:href=\"#DejaVuSans-30\"/>\n      </g>\n     </g>\n    </g>\n    <g id=\"ytick_2\">\n     <g id=\"line2d_7\">\n      <g>\n       <use style=\"stroke:#000000;stroke-width:0.8;\" x=\"40.603125\" xlink:href=\"#m7daa60dbd3\" y=\"213.695857\"/>\n      </g>\n     </g>\n     <g id=\"text_8\">\n      <!-- 1 -->\n      <g transform=\"translate(27.240625 217.495076)scale(0.1 -0.1)\">\n       <use xlink:href=\"#DejaVuSans-31\"/>\n      </g>\n     </g>\n    </g>\n    <g id=\"ytick_3\">\n     <g id=\"line2d_8\">\n      <g>\n       <use style=\"stroke:#000000;stroke-width:0.8;\" x=\"40.603125\" xlink:href=\"#m7daa60dbd3\" y=\"163.468023\"/>\n      </g>\n     </g>\n     <g id=\"text_9\">\n      <!-- 2 -->\n      <g transform=\"translate(27.240625 167.267242)scale(0.1 -0.1)\">\n       <use xlink:href=\"#DejaVuSans-32\"/>\n      </g>\n     </g>\n    </g>\n    <g id=\"ytick_4\">\n     <g id=\"line2d_9\">\n      <g>\n       <use style=\"stroke:#000000;stroke-width:0.8;\" x=\"40.603125\" xlink:href=\"#m7daa60dbd3\" y=\"113.240189\"/>\n      </g>\n     </g>\n     <g id=\"text_10\">\n      <!-- 3 -->\n      <g transform=\"translate(27.240625 117.039407)scale(0.1 -0.1)\">\n       <use xlink:href=\"#DejaVuSans-33\"/>\n      </g>\n     </g>\n    </g>\n    <g id=\"ytick_5\">\n     <g id=\"line2d_10\">\n      <g>\n       <use style=\"stroke:#000000;stroke-width:0.8;\" x=\"40.603125\" xlink:href=\"#m7daa60dbd3\" y=\"63.012355\"/>\n      </g>\n     </g>\n     <g id=\"text_11\">\n      <!-- 4 -->\n      <g transform=\"translate(27.240625 66.811573)scale(0.1 -0.1)\">\n       <use xlink:href=\"#DejaVuSans-34\"/>\n      </g>\n     </g>\n    </g>\n    <g id=\"text_12\">\n     <!-- MAE -->\n     <g transform=\"translate(21.160938 156.75733)rotate(-90)scale(0.1 -0.1)\">\n      <defs>\n       <path d=\"M 628 4666 \nL 1569 4666 \nL 2759 1491 \nL 3956 4666 \nL 4897 4666 \nL 4897 0 \nL 4281 0 \nL 4281 4097 \nL 3078 897 \nL 2444 897 \nL 1241 4097 \nL 1241 0 \nL 628 0 \nL 628 4666 \nz\n\" id=\"DejaVuSans-4d\" transform=\"scale(0.015625)\"/>\n       <path d=\"M 2188 4044 \nL 1331 1722 \nL 3047 1722 \nL 2188 4044 \nz\nM 1831 4666 \nL 2547 4666 \nL 4325 0 \nL 3669 0 \nL 3244 1197 \nL 1141 1197 \nL 716 0 \nL 50 0 \nL 1831 4666 \nz\n\" id=\"DejaVuSans-41\" transform=\"scale(0.015625)\"/>\n      </defs>\n      <use xlink:href=\"#DejaVuSans-4d\"/>\n      <use x=\"86.279297\" xlink:href=\"#DejaVuSans-41\"/>\n      <use x=\"154.6875\" xlink:href=\"#DejaVuSans-45\"/>\n     </g>\n    </g>\n   </g>\n   <g id=\"line2d_11\">\n    <path clip-path=\"url(#pb6a7aa90ee)\" d=\"M 73.575852 33.54953 \nL 87.911821 207.763355 \nL 102.247789 222.575992 \nL 116.583757 230.256791 \nL 130.919726 242.097393 \nL 145.255694 246.238713 \nL 159.591663 252.062001 \nL 173.927631 255.379285 \nL 188.263599 253.917727 \nL 202.599568 255.77548 \nL 216.935536 256.092552 \nL 231.271504 257.560651 \nL 245.607473 257.814496 \nL 259.943441 258.08728 \nL 274.27941 254.807951 \nL 288.615378 256.396504 \nL 302.951346 256.796977 \nL 317.287315 257.904519 \nL 331.623283 258.113785 \nL 345.959251 258.177629 \nL 360.29522 258.110702 \nL 374.631188 257.918272 \nL 388.967157 257.665951 \nL 403.303125 257.968853 \nL 417.639093 258.103098 \nL 431.975062 255.826926 \nL 446.31103 256.396014 \nL 460.646999 257.053803 \nL 474.982967 257.8228 \nL 489.318935 257.885862 \nL 503.654904 257.951634 \nL 517.990872 258.096054 \nL 532.32684 257.971677 \nL 546.662809 258.042295 \nL 560.998777 258.077917 \nL 575.334746 257.842086 \nL 589.670714 258.089518 \nL 604.006682 257.990108 \nL 618.342651 258.095058 \nL 632.678619 258.169241 \nL 647.014587 257.952427 \nL 661.350556 258.047142 \nL 675.686524 258.090632 \nL 690.022493 258.170463 \nL 704.358461 257.982921 \nL 718.694429 258.135952 \nL 733.030398 258.116508 \n\" style=\"fill:none;stroke:#1f77b4;stroke-linecap:square;stroke-width:1.5;\"/>\n   </g>\n   <g id=\"line2d_12\">\n    <path clip-path=\"url(#pb6a7aa90ee)\" d=\"M 73.575852 223.2526 \nL 87.911821 228.544031 \nL 102.247789 235.236938 \nL 116.583757 242.179999 \nL 130.919726 247.346732 \nL 145.255694 251.699721 \nL 159.591663 254.877479 \nL 173.927631 256.273417 \nL 188.263599 257.30016 \nL 202.599568 257.742157 \nL 216.935536 258.072455 \nL 231.271504 258.086579 \nL 245.607473 258.067462 \nL 259.943441 258.060323 \nL 274.27941 258.052759 \nL 288.615378 258.055823 \nL 302.951346 257.98669 \nL 317.287315 258.077504 \nL 331.623283 258.067687 \nL 345.959251 258.017704 \nL 360.29522 258.078655 \nL 374.631188 258.070785 \nL 388.967157 257.984611 \nL 403.303125 258.09381 \nL 417.639093 258.044918 \nL 431.975062 257.334612 \nL 446.31103 258.094269 \nL 460.646999 258.021645 \nL 474.982967 258.068522 \nL 489.318935 258.018939 \nL 503.654904 258.053697 \nL 517.990872 258.076171 \nL 532.32684 257.997054 \nL 546.662809 258.079724 \nL 560.998777 258.031796 \nL 575.334746 258.08147 \nL 589.670714 258.087304 \nL 604.006682 258.081334 \nL 618.342651 258.053763 \nL 632.678619 257.916792 \nL 647.014587 258.083158 \nL 661.350556 257.945754 \nL 675.686524 258.044655 \nL 690.022493 258.069363 \nL 704.358461 257.890948 \nL 718.694429 258.084444 \nL 733.030398 258.027835 \n\" style=\"fill:none;stroke:#ff7f0e;stroke-linecap:square;stroke-width:1.5;\"/>\n   </g>\n   <g id=\"patch_3\">\n    <path d=\"M 40.603125 269.409034 \nL 40.603125 22.318125 \n\" style=\"fill:none;stroke:#000000;stroke-linecap:square;stroke-linejoin:miter;stroke-width:0.8;\"/>\n   </g>\n   <g id=\"patch_4\">\n    <path d=\"M 766.003125 269.409034 \nL 766.003125 22.318125 \n\" style=\"fill:none;stroke:#000000;stroke-linecap:square;stroke-linejoin:miter;stroke-width:0.8;\"/>\n   </g>\n   <g id=\"patch_5\">\n    <path d=\"M 40.603125 269.409034 \nL 766.003125 269.409034 \n\" style=\"fill:none;stroke:#000000;stroke-linecap:square;stroke-linejoin:miter;stroke-width:0.8;\"/>\n   </g>\n   <g id=\"patch_6\">\n    <path d=\"M 40.603125 22.318125 \nL 766.003125 22.318125 \n\" style=\"fill:none;stroke:#000000;stroke-linecap:square;stroke-linejoin:miter;stroke-width:0.8;\"/>\n   </g>\n   <g id=\"text_13\">\n    <!-- Mean average error vs epochs -->\n    <g transform=\"translate(312.164062 16.318125)scale(0.12 -0.12)\">\n     <defs>\n      <path d=\"M 3597 1894 \nL 3597 1613 \nL 953 1613 \nQ 991 1019 1311 708 \nQ 1631 397 2203 397 \nQ 2534 397 2845 478 \nQ 3156 559 3463 722 \nL 3463 178 \nQ 3153 47 2828 -22 \nQ 2503 -91 2169 -91 \nQ 1331 -91 842 396 \nQ 353 884 353 1716 \nQ 353 2575 817 3079 \nQ 1281 3584 2069 3584 \nQ 2775 3584 3186 3129 \nQ 3597 2675 3597 1894 \nz\nM 3022 2063 \nQ 3016 2534 2758 2815 \nQ 2500 3097 2075 3097 \nQ 1594 3097 1305 2825 \nQ 1016 2553 972 2059 \nL 3022 2063 \nz\n\" id=\"DejaVuSans-65\" transform=\"scale(0.015625)\"/>\n      <path d=\"M 2194 1759 \nQ 1497 1759 1228 1600 \nQ 959 1441 959 1056 \nQ 959 750 1161 570 \nQ 1363 391 1709 391 \nQ 2188 391 2477 730 \nQ 2766 1069 2766 1631 \nL 2766 1759 \nL 2194 1759 \nz\nM 3341 1997 \nL 3341 0 \nL 2766 0 \nL 2766 531 \nQ 2569 213 2275 61 \nQ 1981 -91 1556 -91 \nQ 1019 -91 701 211 \nQ 384 513 384 1019 \nQ 384 1609 779 1909 \nQ 1175 2209 1959 2209 \nL 2766 2209 \nL 2766 2266 \nQ 2766 2663 2505 2880 \nQ 2244 3097 1772 3097 \nQ 1472 3097 1187 3025 \nQ 903 2953 641 2809 \nL 641 3341 \nQ 956 3463 1253 3523 \nQ 1550 3584 1831 3584 \nQ 2591 3584 2966 3190 \nQ 3341 2797 3341 1997 \nz\n\" id=\"DejaVuSans-61\" transform=\"scale(0.015625)\"/>\n      <path d=\"M 3513 2113 \nL 3513 0 \nL 2938 0 \nL 2938 2094 \nQ 2938 2591 2744 2837 \nQ 2550 3084 2163 3084 \nQ 1697 3084 1428 2787 \nQ 1159 2491 1159 1978 \nL 1159 0 \nL 581 0 \nL 581 3500 \nL 1159 3500 \nL 1159 2956 \nQ 1366 3272 1645 3428 \nQ 1925 3584 2291 3584 \nQ 2894 3584 3203 3211 \nQ 3513 2838 3513 2113 \nz\n\" id=\"DejaVuSans-6e\" transform=\"scale(0.015625)\"/>\n      <path id=\"DejaVuSans-20\" transform=\"scale(0.015625)\"/>\n      <path d=\"M 191 3500 \nL 800 3500 \nL 1894 563 \nL 2988 3500 \nL 3597 3500 \nL 2284 0 \nL 1503 0 \nL 191 3500 \nz\n\" id=\"DejaVuSans-76\" transform=\"scale(0.015625)\"/>\n      <path d=\"M 2631 2963 \nQ 2534 3019 2420 3045 \nQ 2306 3072 2169 3072 \nQ 1681 3072 1420 2755 \nQ 1159 2438 1159 1844 \nL 1159 0 \nL 581 0 \nL 581 3500 \nL 1159 3500 \nL 1159 2956 \nQ 1341 3275 1631 3429 \nQ 1922 3584 2338 3584 \nQ 2397 3584 2469 3576 \nQ 2541 3569 2628 3553 \nL 2631 2963 \nz\n\" id=\"DejaVuSans-72\" transform=\"scale(0.015625)\"/>\n      <path d=\"M 2906 1791 \nQ 2906 2416 2648 2759 \nQ 2391 3103 1925 3103 \nQ 1463 3103 1205 2759 \nQ 947 2416 947 1791 \nQ 947 1169 1205 825 \nQ 1463 481 1925 481 \nQ 2391 481 2648 825 \nQ 2906 1169 2906 1791 \nz\nM 3481 434 \nQ 3481 -459 3084 -895 \nQ 2688 -1331 1869 -1331 \nQ 1566 -1331 1297 -1286 \nQ 1028 -1241 775 -1147 \nL 775 -588 \nQ 1028 -725 1275 -790 \nQ 1522 -856 1778 -856 \nQ 2344 -856 2625 -561 \nQ 2906 -266 2906 331 \nL 2906 616 \nQ 2728 306 2450 153 \nQ 2172 0 1784 0 \nQ 1141 0 747 490 \nQ 353 981 353 1791 \nQ 353 2603 747 3093 \nQ 1141 3584 1784 3584 \nQ 2172 3584 2450 3431 \nQ 2728 3278 2906 2969 \nL 2906 3500 \nL 3481 3500 \nL 3481 434 \nz\n\" id=\"DejaVuSans-67\" transform=\"scale(0.015625)\"/>\n      <path d=\"M 2834 3397 \nL 2834 2853 \nQ 2591 2978 2328 3040 \nQ 2066 3103 1784 3103 \nQ 1356 3103 1142 2972 \nQ 928 2841 928 2578 \nQ 928 2378 1081 2264 \nQ 1234 2150 1697 2047 \nL 1894 2003 \nQ 2506 1872 2764 1633 \nQ 3022 1394 3022 966 \nQ 3022 478 2636 193 \nQ 2250 -91 1575 -91 \nQ 1294 -91 989 -36 \nQ 684 19 347 128 \nL 347 722 \nQ 666 556 975 473 \nQ 1284 391 1588 391 \nQ 1994 391 2212 530 \nQ 2431 669 2431 922 \nQ 2431 1156 2273 1281 \nQ 2116 1406 1581 1522 \nL 1381 1569 \nQ 847 1681 609 1914 \nQ 372 2147 372 2553 \nQ 372 3047 722 3315 \nQ 1072 3584 1716 3584 \nQ 2034 3584 2315 3537 \nQ 2597 3491 2834 3397 \nz\n\" id=\"DejaVuSans-73\" transform=\"scale(0.015625)\"/>\n     </defs>\n     <use xlink:href=\"#DejaVuSans-4d\"/>\n     <use x=\"86.279297\" xlink:href=\"#DejaVuSans-65\"/>\n     <use x=\"147.802734\" xlink:href=\"#DejaVuSans-61\"/>\n     <use x=\"209.082031\" xlink:href=\"#DejaVuSans-6e\"/>\n     <use x=\"272.460938\" xlink:href=\"#DejaVuSans-20\"/>\n     <use x=\"304.248047\" xlink:href=\"#DejaVuSans-61\"/>\n     <use x=\"365.527344\" xlink:href=\"#DejaVuSans-76\"/>\n     <use x=\"424.707031\" xlink:href=\"#DejaVuSans-65\"/>\n     <use x=\"486.230469\" xlink:href=\"#DejaVuSans-72\"/>\n     <use x=\"527.34375\" xlink:href=\"#DejaVuSans-61\"/>\n     <use x=\"588.623047\" xlink:href=\"#DejaVuSans-67\"/>\n     <use x=\"652.099609\" xlink:href=\"#DejaVuSans-65\"/>\n     <use x=\"713.623047\" xlink:href=\"#DejaVuSans-20\"/>\n     <use x=\"745.410156\" xlink:href=\"#DejaVuSans-65\"/>\n     <use x=\"806.933594\" xlink:href=\"#DejaVuSans-72\"/>\n     <use x=\"846.296875\" xlink:href=\"#DejaVuSans-72\"/>\n     <use x=\"885.160156\" xlink:href=\"#DejaVuSans-6f\"/>\n     <use x=\"946.341797\" xlink:href=\"#DejaVuSans-72\"/>\n     <use x=\"987.455078\" xlink:href=\"#DejaVuSans-20\"/>\n     <use x=\"1019.242188\" xlink:href=\"#DejaVuSans-76\"/>\n     <use x=\"1078.421875\" xlink:href=\"#DejaVuSans-73\"/>\n     <use x=\"1130.521484\" xlink:href=\"#DejaVuSans-20\"/>\n     <use x=\"1162.308594\" xlink:href=\"#DejaVuSans-65\"/>\n     <use x=\"1223.832031\" xlink:href=\"#DejaVuSans-70\"/>\n     <use x=\"1287.308594\" xlink:href=\"#DejaVuSans-6f\"/>\n     <use x=\"1348.490234\" xlink:href=\"#DejaVuSans-63\"/>\n     <use x=\"1403.470703\" xlink:href=\"#DejaVuSans-68\"/>\n     <use x=\"1466.849609\" xlink:href=\"#DejaVuSans-73\"/>\n    </g>\n   </g>\n   <g id=\"legend_1\">\n    <g id=\"patch_7\">\n     <path d=\"M 677.76875 59.674375 \nL 759.003125 59.674375 \nQ 761.003125 59.674375 761.003125 57.674375 \nL 761.003125 29.318125 \nQ 761.003125 27.318125 759.003125 27.318125 \nL 677.76875 27.318125 \nQ 675.76875 27.318125 675.76875 29.318125 \nL 675.76875 57.674375 \nQ 675.76875 59.674375 677.76875 59.674375 \nz\n\" style=\"fill:#ffffff;opacity:0.8;stroke:#cccccc;stroke-linejoin:miter;\"/>\n    </g>\n    <g id=\"line2d_13\">\n     <path d=\"M 679.76875 35.416562 \nL 699.76875 35.416562 \n\" style=\"fill:none;stroke:#1f77b4;stroke-linecap:square;stroke-width:1.5;\"/>\n    </g>\n    <g id=\"line2d_14\"/>\n    <g id=\"text_14\">\n     <!-- train -->\n     <g transform=\"translate(707.76875 38.916562)scale(0.1 -0.1)\">\n      <defs>\n       <path d=\"M 1172 4494 \nL 1172 3500 \nL 2356 3500 \nL 2356 3053 \nL 1172 3053 \nL 1172 1153 \nQ 1172 725 1289 603 \nQ 1406 481 1766 481 \nL 2356 481 \nL 2356 0 \nL 1766 0 \nQ 1100 0 847 248 \nQ 594 497 594 1153 \nL 594 3053 \nL 172 3053 \nL 172 3500 \nL 594 3500 \nL 594 4494 \nL 1172 4494 \nz\n\" id=\"DejaVuSans-74\" transform=\"scale(0.015625)\"/>\n       <path d=\"M 603 3500 \nL 1178 3500 \nL 1178 0 \nL 603 0 \nL 603 3500 \nz\nM 603 4863 \nL 1178 4863 \nL 1178 4134 \nL 603 4134 \nL 603 4863 \nz\n\" id=\"DejaVuSans-69\" transform=\"scale(0.015625)\"/>\n      </defs>\n      <use xlink:href=\"#DejaVuSans-74\"/>\n      <use x=\"39.208984\" xlink:href=\"#DejaVuSans-72\"/>\n      <use x=\"80.322266\" xlink:href=\"#DejaVuSans-61\"/>\n      <use x=\"141.601562\" xlink:href=\"#DejaVuSans-69\"/>\n      <use x=\"169.384766\" xlink:href=\"#DejaVuSans-6e\"/>\n     </g>\n    </g>\n    <g id=\"line2d_15\">\n     <path d=\"M 679.76875 50.094687 \nL 699.76875 50.094687 \n\" style=\"fill:none;stroke:#ff7f0e;stroke-linecap:square;stroke-width:1.5;\"/>\n    </g>\n    <g id=\"line2d_16\"/>\n    <g id=\"text_15\">\n     <!-- validation -->\n     <g transform=\"translate(707.76875 53.594687)scale(0.1 -0.1)\">\n      <defs>\n       <path d=\"M 603 4863 \nL 1178 4863 \nL 1178 0 \nL 603 0 \nL 603 4863 \nz\n\" id=\"DejaVuSans-6c\" transform=\"scale(0.015625)\"/>\n       <path d=\"M 2906 2969 \nL 2906 4863 \nL 3481 4863 \nL 3481 0 \nL 2906 0 \nL 2906 525 \nQ 2725 213 2448 61 \nQ 2172 -91 1784 -91 \nQ 1150 -91 751 415 \nQ 353 922 353 1747 \nQ 353 2572 751 3078 \nQ 1150 3584 1784 3584 \nQ 2172 3584 2448 3432 \nQ 2725 3281 2906 2969 \nz\nM 947 1747 \nQ 947 1113 1208 752 \nQ 1469 391 1925 391 \nQ 2381 391 2643 752 \nQ 2906 1113 2906 1747 \nQ 2906 2381 2643 2742 \nQ 2381 3103 1925 3103 \nQ 1469 3103 1208 2742 \nQ 947 2381 947 1747 \nz\n\" id=\"DejaVuSans-64\" transform=\"scale(0.015625)\"/>\n      </defs>\n      <use xlink:href=\"#DejaVuSans-76\"/>\n      <use x=\"59.179688\" xlink:href=\"#DejaVuSans-61\"/>\n      <use x=\"120.458984\" xlink:href=\"#DejaVuSans-6c\"/>\n      <use x=\"148.242188\" xlink:href=\"#DejaVuSans-69\"/>\n      <use x=\"176.025391\" xlink:href=\"#DejaVuSans-64\"/>\n      <use x=\"239.501953\" xlink:href=\"#DejaVuSans-61\"/>\n      <use x=\"300.78125\" xlink:href=\"#DejaVuSans-74\"/>\n      <use x=\"339.990234\" xlink:href=\"#DejaVuSans-69\"/>\n      <use x=\"367.773438\" xlink:href=\"#DejaVuSans-6f\"/>\n      <use x=\"428.955078\" xlink:href=\"#DejaVuSans-6e\"/>\n     </g>\n    </g>\n   </g>\n  </g>\n  <g id=\"axes_2\">\n   <g id=\"patch_8\">\n    <path d=\"M 40.603125 565.918125 \nL 766.003125 565.918125 \nL 766.003125 318.827216 \nL 40.603125 318.827216 \nz\n\" style=\"fill:#ffffff;\"/>\n   </g>\n   <g id=\"matplotlib.axis_3\">\n    <g id=\"xtick_6\">\n     <g id=\"line2d_17\">\n      <g>\n       <use style=\"stroke:#000000;stroke-width:0.8;\" x=\"73.575852\" xlink:href=\"#m6e865df669\" y=\"565.918125\"/>\n      </g>\n     </g>\n     <g id=\"text_16\">\n      <!-- 0 -->\n      <g transform=\"translate(70.394602 580.516562)scale(0.1 -0.1)\">\n       <use xlink:href=\"#DejaVuSans-30\"/>\n      </g>\n     </g>\n    </g>\n    <g id=\"xtick_7\">\n     <g id=\"line2d_18\">\n      <g>\n       <use style=\"stroke:#000000;stroke-width:0.8;\" x=\"216.935536\" xlink:href=\"#m6e865df669\" y=\"565.918125\"/>\n      </g>\n     </g>\n     <g id=\"text_17\">\n      <!-- 10 -->\n      <g transform=\"translate(210.573036 580.516562)scale(0.1 -0.1)\">\n       <use xlink:href=\"#DejaVuSans-31\"/>\n       <use x=\"63.623047\" xlink:href=\"#DejaVuSans-30\"/>\n      </g>\n     </g>\n    </g>\n    <g id=\"xtick_8\">\n     <g id=\"line2d_19\">\n      <g>\n       <use style=\"stroke:#000000;stroke-width:0.8;\" x=\"360.29522\" xlink:href=\"#m6e865df669\" y=\"565.918125\"/>\n      </g>\n     </g>\n     <g id=\"text_18\">\n      <!-- 20 -->\n      <g transform=\"translate(353.93272 580.516562)scale(0.1 -0.1)\">\n       <use xlink:href=\"#DejaVuSans-32\"/>\n       <use x=\"63.623047\" xlink:href=\"#DejaVuSans-30\"/>\n      </g>\n     </g>\n    </g>\n    <g id=\"xtick_9\">\n     <g id=\"line2d_20\">\n      <g>\n       <use style=\"stroke:#000000;stroke-width:0.8;\" x=\"503.654904\" xlink:href=\"#m6e865df669\" y=\"565.918125\"/>\n      </g>\n     </g>\n     <g id=\"text_19\">\n      <!-- 30 -->\n      <g transform=\"translate(497.292404 580.516562)scale(0.1 -0.1)\">\n       <use xlink:href=\"#DejaVuSans-33\"/>\n       <use x=\"63.623047\" xlink:href=\"#DejaVuSans-30\"/>\n      </g>\n     </g>\n    </g>\n    <g id=\"xtick_10\">\n     <g id=\"line2d_21\">\n      <g>\n       <use style=\"stroke:#000000;stroke-width:0.8;\" x=\"647.014587\" xlink:href=\"#m6e865df669\" y=\"565.918125\"/>\n      </g>\n     </g>\n     <g id=\"text_20\">\n      <!-- 40 -->\n      <g transform=\"translate(640.652087 580.516562)scale(0.1 -0.1)\">\n       <use xlink:href=\"#DejaVuSans-34\"/>\n       <use x=\"63.623047\" xlink:href=\"#DejaVuSans-30\"/>\n      </g>\n     </g>\n    </g>\n    <g id=\"text_21\">\n     <!-- Epoch -->\n     <g transform=\"translate(387.992188 594.194687)scale(0.1 -0.1)\">\n      <use xlink:href=\"#DejaVuSans-45\"/>\n      <use x=\"63.183594\" xlink:href=\"#DejaVuSans-70\"/>\n      <use x=\"126.660156\" xlink:href=\"#DejaVuSans-6f\"/>\n      <use x=\"187.841797\" xlink:href=\"#DejaVuSans-63\"/>\n      <use x=\"242.822266\" xlink:href=\"#DejaVuSans-68\"/>\n     </g>\n    </g>\n   </g>\n   <g id=\"matplotlib.axis_4\">\n    <g id=\"ytick_6\">\n     <g id=\"line2d_22\">\n      <g>\n       <use style=\"stroke:#000000;stroke-width:0.8;\" x=\"40.603125\" xlink:href=\"#m7daa60dbd3\" y=\"554.740322\"/>\n      </g>\n     </g>\n     <g id=\"text_22\">\n      <!-- 0 -->\n      <g transform=\"translate(27.240625 558.53954)scale(0.1 -0.1)\">\n       <use xlink:href=\"#DejaVuSans-30\"/>\n      </g>\n     </g>\n    </g>\n    <g id=\"ytick_7\">\n     <g id=\"line2d_23\">\n      <g>\n       <use style=\"stroke:#000000;stroke-width:0.8;\" x=\"40.603125\" xlink:href=\"#m7daa60dbd3\" y=\"500.932664\"/>\n      </g>\n     </g>\n     <g id=\"text_23\">\n      <!-- 20 -->\n      <g transform=\"translate(20.878125 504.731883)scale(0.1 -0.1)\">\n       <use xlink:href=\"#DejaVuSans-32\"/>\n       <use x=\"63.623047\" xlink:href=\"#DejaVuSans-30\"/>\n      </g>\n     </g>\n    </g>\n    <g id=\"ytick_8\">\n     <g id=\"line2d_24\">\n      <g>\n       <use style=\"stroke:#000000;stroke-width:0.8;\" x=\"40.603125\" xlink:href=\"#m7daa60dbd3\" y=\"447.125006\"/>\n      </g>\n     </g>\n     <g id=\"text_24\">\n      <!-- 40 -->\n      <g transform=\"translate(20.878125 450.924225)scale(0.1 -0.1)\">\n       <use xlink:href=\"#DejaVuSans-34\"/>\n       <use x=\"63.623047\" xlink:href=\"#DejaVuSans-30\"/>\n      </g>\n     </g>\n    </g>\n    <g id=\"ytick_9\">\n     <g id=\"line2d_25\">\n      <g>\n       <use style=\"stroke:#000000;stroke-width:0.8;\" x=\"40.603125\" xlink:href=\"#m7daa60dbd3\" y=\"393.317349\"/>\n      </g>\n     </g>\n     <g id=\"text_25\">\n      <!-- 60 -->\n      <g transform=\"translate(20.878125 397.116567)scale(0.1 -0.1)\">\n       <defs>\n        <path d=\"M 2113 2584 \nQ 1688 2584 1439 2293 \nQ 1191 2003 1191 1497 \nQ 1191 994 1439 701 \nQ 1688 409 2113 409 \nQ 2538 409 2786 701 \nQ 3034 994 3034 1497 \nQ 3034 2003 2786 2293 \nQ 2538 2584 2113 2584 \nz\nM 3366 4563 \nL 3366 3988 \nQ 3128 4100 2886 4159 \nQ 2644 4219 2406 4219 \nQ 1781 4219 1451 3797 \nQ 1122 3375 1075 2522 \nQ 1259 2794 1537 2939 \nQ 1816 3084 2150 3084 \nQ 2853 3084 3261 2657 \nQ 3669 2231 3669 1497 \nQ 3669 778 3244 343 \nQ 2819 -91 2113 -91 \nQ 1303 -91 875 529 \nQ 447 1150 447 2328 \nQ 447 3434 972 4092 \nQ 1497 4750 2381 4750 \nQ 2619 4750 2861 4703 \nQ 3103 4656 3366 4563 \nz\n\" id=\"DejaVuSans-36\" transform=\"scale(0.015625)\"/>\n       </defs>\n       <use xlink:href=\"#DejaVuSans-36\"/>\n       <use x=\"63.623047\" xlink:href=\"#DejaVuSans-30\"/>\n      </g>\n     </g>\n    </g>\n    <g id=\"ytick_10\">\n     <g id=\"line2d_26\">\n      <g>\n       <use style=\"stroke:#000000;stroke-width:0.8;\" x=\"40.603125\" xlink:href=\"#m7daa60dbd3\" y=\"339.509691\"/>\n      </g>\n     </g>\n     <g id=\"text_26\">\n      <!-- 80 -->\n      <g transform=\"translate(20.878125 343.30891)scale(0.1 -0.1)\">\n       <defs>\n        <path d=\"M 2034 2216 \nQ 1584 2216 1326 1975 \nQ 1069 1734 1069 1313 \nQ 1069 891 1326 650 \nQ 1584 409 2034 409 \nQ 2484 409 2743 651 \nQ 3003 894 3003 1313 \nQ 3003 1734 2745 1975 \nQ 2488 2216 2034 2216 \nz\nM 1403 2484 \nQ 997 2584 770 2862 \nQ 544 3141 544 3541 \nQ 544 4100 942 4425 \nQ 1341 4750 2034 4750 \nQ 2731 4750 3128 4425 \nQ 3525 4100 3525 3541 \nQ 3525 3141 3298 2862 \nQ 3072 2584 2669 2484 \nQ 3125 2378 3379 2068 \nQ 3634 1759 3634 1313 \nQ 3634 634 3220 271 \nQ 2806 -91 2034 -91 \nQ 1263 -91 848 271 \nQ 434 634 434 1313 \nQ 434 1759 690 2068 \nQ 947 2378 1403 2484 \nz\nM 1172 3481 \nQ 1172 3119 1398 2916 \nQ 1625 2713 2034 2713 \nQ 2441 2713 2670 2916 \nQ 2900 3119 2900 3481 \nQ 2900 3844 2670 4047 \nQ 2441 4250 2034 4250 \nQ 1625 4250 1398 4047 \nQ 1172 3844 1172 3481 \nz\n\" id=\"DejaVuSans-38\" transform=\"scale(0.015625)\"/>\n       </defs>\n       <use xlink:href=\"#DejaVuSans-38\"/>\n       <use x=\"63.623047\" xlink:href=\"#DejaVuSans-30\"/>\n      </g>\n     </g>\n    </g>\n    <g id=\"text_27\">\n     <!-- Loss -->\n     <g transform=\"translate(14.798438 453.339858)rotate(-90)scale(0.1 -0.1)\">\n      <defs>\n       <path d=\"M 628 4666 \nL 1259 4666 \nL 1259 531 \nL 3531 531 \nL 3531 0 \nL 628 0 \nL 628 4666 \nz\n\" id=\"DejaVuSans-4c\" transform=\"scale(0.015625)\"/>\n      </defs>\n      <use xlink:href=\"#DejaVuSans-4c\"/>\n      <use x=\"53.962891\" xlink:href=\"#DejaVuSans-6f\"/>\n      <use x=\"115.144531\" xlink:href=\"#DejaVuSans-73\"/>\n      <use x=\"167.244141\" xlink:href=\"#DejaVuSans-73\"/>\n     </g>\n    </g>\n   </g>\n   <g id=\"line2d_27\">\n    <path clip-path=\"url(#paf19e930b9)\" d=\"M 73.575852 330.058621 \nL 87.911821 542.189647 \nL 102.247789 548.664771 \nL 116.583757 548.958916 \nL 130.919726 553.054564 \nL 145.255694 553.303966 \nL 159.591663 554.330543 \nL 173.927631 554.597778 \nL 188.263599 553.806963 \nL 202.599568 554.219548 \nL 216.935536 554.334649 \nL 231.271504 554.573739 \nL 245.607473 554.666073 \nL 259.943441 554.686036 \nL 274.27941 554.07913 \nL 288.615378 554.41638 \nL 302.951346 554.39145 \nL 317.287315 554.680979 \nL 331.623283 554.686074 \nL 345.959251 554.68672 \nL 360.29522 554.686259 \nL 374.631188 554.673059 \nL 388.967157 554.663501 \nL 403.303125 554.675 \nL 417.639093 554.6849 \nL 431.975062 553.281578 \nL 446.31103 554.396599 \nL 460.646999 554.618173 \nL 474.982967 554.676556 \nL 489.318935 554.679179 \nL 503.654904 554.680282 \nL 517.990872 554.685024 \nL 532.32684 554.682165 \nL 546.662809 554.684943 \nL 560.998777 554.6822 \nL 575.334746 554.679594 \nL 589.670714 554.685382 \nL 604.006682 554.6832 \nL 618.342651 554.686113 \nL 632.678619 554.686285 \nL 647.014587 554.681346 \nL 661.350556 554.683339 \nL 675.686524 554.686082 \nL 690.022493 554.686442 \nL 704.358461 554.681635 \nL 718.694429 554.686335 \nL 733.030398 554.686186 \n\" style=\"fill:none;stroke:#1f77b4;stroke-linecap:square;stroke-width:1.5;\"/>\n   </g>\n   <g id=\"line2d_28\">\n    <path clip-path=\"url(#paf19e930b9)\" d=\"M 73.575852 552.561832 \nL 87.911821 552.84526 \nL 102.247789 553.203756 \nL 116.583757 553.575651 \nL 130.919726 553.8524 \nL 145.255694 554.085562 \nL 159.591663 554.255774 \nL 173.927631 554.330545 \nL 188.263599 554.385541 \nL 202.599568 554.409216 \nL 216.935536 554.426908 \nL 231.271504 554.427665 \nL 245.607473 554.426641 \nL 259.943441 554.426258 \nL 274.27941 554.425853 \nL 288.615378 554.426017 \nL 302.951346 554.422314 \nL 317.287315 554.427179 \nL 331.623283 554.426653 \nL 345.959251 554.423976 \nL 360.29522 554.42724 \nL 374.631188 554.426819 \nL 388.967157 554.422203 \nL 403.303125 554.428052 \nL 417.639093 554.425433 \nL 431.975062 554.387387 \nL 446.31103 554.428077 \nL 460.646999 554.424187 \nL 474.982967 554.426698 \nL 489.318935 554.424042 \nL 503.654904 554.425904 \nL 517.990872 554.427107 \nL 532.32684 554.42287 \nL 546.662809 554.427298 \nL 560.998777 554.42473 \nL 575.334746 554.427391 \nL 589.670714 554.427704 \nL 604.006682 554.427384 \nL 618.342651 554.425907 \nL 632.678619 554.41857 \nL 647.014587 554.427482 \nL 661.350556 554.420122 \nL 675.686524 554.425419 \nL 690.022493 554.426743 \nL 704.358461 554.417186 \nL 718.694429 554.42755 \nL 733.030398 554.424518 \n\" style=\"fill:none;stroke:#ff7f0e;stroke-linecap:square;stroke-width:1.5;\"/>\n   </g>\n   <g id=\"patch_9\">\n    <path d=\"M 40.603125 565.918125 \nL 40.603125 318.827216 \n\" style=\"fill:none;stroke:#000000;stroke-linecap:square;stroke-linejoin:miter;stroke-width:0.8;\"/>\n   </g>\n   <g id=\"patch_10\">\n    <path d=\"M 766.003125 565.918125 \nL 766.003125 318.827216 \n\" style=\"fill:none;stroke:#000000;stroke-linecap:square;stroke-linejoin:miter;stroke-width:0.8;\"/>\n   </g>\n   <g id=\"patch_11\">\n    <path d=\"M 40.603125 565.918125 \nL 766.003125 565.918125 \n\" style=\"fill:none;stroke:#000000;stroke-linecap:square;stroke-linejoin:miter;stroke-width:0.8;\"/>\n   </g>\n   <g id=\"patch_12\">\n    <path d=\"M 40.603125 318.827216 \nL 766.003125 318.827216 \n\" style=\"fill:none;stroke:#000000;stroke-linecap:square;stroke-linejoin:miter;stroke-width:0.8;\"/>\n   </g>\n   <g id=\"text_28\">\n    <!-- Loss vs. Epochs -->\n    <g transform=\"translate(356.24625 312.827216)scale(0.12 -0.12)\">\n     <defs>\n      <path d=\"M 684 794 \nL 1344 794 \nL 1344 0 \nL 684 0 \nL 684 794 \nz\n\" id=\"DejaVuSans-2e\" transform=\"scale(0.015625)\"/>\n     </defs>\n     <use xlink:href=\"#DejaVuSans-4c\"/>\n     <use x=\"53.962891\" xlink:href=\"#DejaVuSans-6f\"/>\n     <use x=\"115.144531\" xlink:href=\"#DejaVuSans-73\"/>\n     <use x=\"167.244141\" xlink:href=\"#DejaVuSans-73\"/>\n     <use x=\"219.34375\" xlink:href=\"#DejaVuSans-20\"/>\n     <use x=\"251.130859\" xlink:href=\"#DejaVuSans-76\"/>\n     <use x=\"310.310547\" xlink:href=\"#DejaVuSans-73\"/>\n     <use x=\"362.410156\" xlink:href=\"#DejaVuSans-2e\"/>\n     <use x=\"394.197266\" xlink:href=\"#DejaVuSans-20\"/>\n     <use x=\"425.984375\" xlink:href=\"#DejaVuSans-45\"/>\n     <use x=\"489.167969\" xlink:href=\"#DejaVuSans-70\"/>\n     <use x=\"552.644531\" xlink:href=\"#DejaVuSans-6f\"/>\n     <use x=\"613.826172\" xlink:href=\"#DejaVuSans-63\"/>\n     <use x=\"668.806641\" xlink:href=\"#DejaVuSans-68\"/>\n     <use x=\"732.185547\" xlink:href=\"#DejaVuSans-73\"/>\n    </g>\n   </g>\n   <g id=\"legend_2\">\n    <g id=\"patch_13\">\n     <path d=\"M 677.76875 356.183466 \nL 759.003125 356.183466 \nQ 761.003125 356.183466 761.003125 354.183466 \nL 761.003125 325.827216 \nQ 761.003125 323.827216 759.003125 323.827216 \nL 677.76875 323.827216 \nQ 675.76875 323.827216 675.76875 325.827216 \nL 675.76875 354.183466 \nQ 675.76875 356.183466 677.76875 356.183466 \nz\n\" style=\"fill:#ffffff;opacity:0.8;stroke:#cccccc;stroke-linejoin:miter;\"/>\n    </g>\n    <g id=\"line2d_29\">\n     <path d=\"M 679.76875 331.925653 \nL 699.76875 331.925653 \n\" style=\"fill:none;stroke:#1f77b4;stroke-linecap:square;stroke-width:1.5;\"/>\n    </g>\n    <g id=\"line2d_30\"/>\n    <g id=\"text_29\">\n     <!-- train -->\n     <g transform=\"translate(707.76875 335.425653)scale(0.1 -0.1)\">\n      <use xlink:href=\"#DejaVuSans-74\"/>\n      <use x=\"39.208984\" xlink:href=\"#DejaVuSans-72\"/>\n      <use x=\"80.322266\" xlink:href=\"#DejaVuSans-61\"/>\n      <use x=\"141.601562\" xlink:href=\"#DejaVuSans-69\"/>\n      <use x=\"169.384766\" xlink:href=\"#DejaVuSans-6e\"/>\n     </g>\n    </g>\n    <g id=\"line2d_31\">\n     <path d=\"M 679.76875 346.603778 \nL 699.76875 346.603778 \n\" style=\"fill:none;stroke:#ff7f0e;stroke-linecap:square;stroke-width:1.5;\"/>\n    </g>\n    <g id=\"line2d_32\"/>\n    <g id=\"text_30\">\n     <!-- validation -->\n     <g transform=\"translate(707.76875 350.103778)scale(0.1 -0.1)\">\n      <use xlink:href=\"#DejaVuSans-76\"/>\n      <use x=\"59.179688\" xlink:href=\"#DejaVuSans-61\"/>\n      <use x=\"120.458984\" xlink:href=\"#DejaVuSans-6c\"/>\n      <use x=\"148.242188\" xlink:href=\"#DejaVuSans-69\"/>\n      <use x=\"176.025391\" xlink:href=\"#DejaVuSans-64\"/>\n      <use x=\"239.501953\" xlink:href=\"#DejaVuSans-61\"/>\n      <use x=\"300.78125\" xlink:href=\"#DejaVuSans-74\"/>\n      <use x=\"339.990234\" xlink:href=\"#DejaVuSans-69\"/>\n      <use x=\"367.773438\" xlink:href=\"#DejaVuSans-6f\"/>\n      <use x=\"428.955078\" xlink:href=\"#DejaVuSans-6e\"/>\n     </g>\n    </g>\n   </g>\n  </g>\n </g>\n <defs>\n  <clipPath id=\"pb6a7aa90ee\">\n   <rect height=\"247.090909\" width=\"725.4\" x=\"40.603125\" y=\"22.318125\"/>\n  </clipPath>\n  <clipPath id=\"paf19e930b9\">\n   <rect height=\"247.090909\" width=\"725.4\" x=\"40.603125\" y=\"318.827216\"/>\n  </clipPath>\n </defs>\n</svg>\n",
      "image/png": "[encoded data removed]"
     },
     "metadata": {
      "needs_background": "light"
     }
    }
   ],
   "source": [
    "\n",
    "train_mae = history.history['mae']\n",
    "train_mae_val = history.history['val_mae']\n",
    "\n",
    "fig = plt.figure(figsize=(13,10))\n",
    "ax1 = fig.add_subplot(2, 1, 1)\n",
    "ax1.plot(train_mae)\n",
    "ax1.plot(train_mae_val)\n",
    "ax1.set_title('Mean average error vs epochs')\n",
    "ax1.set_ylabel('MAE')\n",
    "ax1.set_xlabel('Epoch')\n",
    "ax1.legend(['train', 'validation'], loc='upper right')\n",
    "\n",
    "\n",
    "train_loss = history.history['loss']\n",
    "train_loss_val = history.history['val_mae']\n",
    "ax2 = fig.add_subplot(2, 1, 2)\n",
    "ax2.plot(train_loss)\n",
    "ax2.plot(train_loss_val)\n",
    "ax2.set_title('Loss vs. Epochs')\n",
    "ax2.set_ylabel('Loss')\n",
    "ax2.set_xlabel('Epoch')\n",
    "ax2.legend(['train', 'validation'], loc='upper right')\n",
    "\n",
    "plt.show()"
   ]
  },
  {
   "cell_type": "code",
   "execution_count": null,
   "metadata": {},
   "outputs": [],
   "source": []
  }
 ]
}